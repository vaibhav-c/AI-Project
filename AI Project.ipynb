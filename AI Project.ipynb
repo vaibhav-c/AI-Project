{
 "cells": [
  {
   "cell_type": "code",
   "execution_count": 1,
   "id": "c604a7cf",
   "metadata": {},
   "outputs": [],
   "source": [
    "import pandas as pd\n",
    "import seaborn as sns\n",
    "import numpy as np\n",
    "import matplotlib.pyplot as plt\n",
    "from sklearn.model_selection import train_test_split\n",
    "import math"
   ]
  },
  {
   "cell_type": "code",
   "execution_count": 2,
   "id": "5b17d5a2",
   "metadata": {},
   "outputs": [],
   "source": [
    "dataset = pd.read_csv('diabetes.csv')"
   ]
  },
  {
   "cell_type": "code",
   "execution_count": 3,
   "id": "275df487",
   "metadata": {},
   "outputs": [
    {
     "data": {
      "text/html": [
       "<div>\n",
       "<style scoped>\n",
       "    .dataframe tbody tr th:only-of-type {\n",
       "        vertical-align: middle;\n",
       "    }\n",
       "\n",
       "    .dataframe tbody tr th {\n",
       "        vertical-align: top;\n",
       "    }\n",
       "\n",
       "    .dataframe thead th {\n",
       "        text-align: right;\n",
       "    }\n",
       "</style>\n",
       "<table border=\"1\" class=\"dataframe\">\n",
       "  <thead>\n",
       "    <tr style=\"text-align: right;\">\n",
       "      <th></th>\n",
       "      <th>Pregnancies</th>\n",
       "      <th>Glucose</th>\n",
       "      <th>BloodPressure</th>\n",
       "      <th>SkinThickness</th>\n",
       "      <th>Insulin</th>\n",
       "      <th>BMI</th>\n",
       "      <th>DiabetesPedigreeFunction</th>\n",
       "      <th>Age</th>\n",
       "      <th>Outcome</th>\n",
       "    </tr>\n",
       "  </thead>\n",
       "  <tbody>\n",
       "    <tr>\n",
       "      <th>0</th>\n",
       "      <td>6</td>\n",
       "      <td>148</td>\n",
       "      <td>72</td>\n",
       "      <td>35</td>\n",
       "      <td>0</td>\n",
       "      <td>33.6</td>\n",
       "      <td>0.627</td>\n",
       "      <td>50</td>\n",
       "      <td>1</td>\n",
       "    </tr>\n",
       "    <tr>\n",
       "      <th>1</th>\n",
       "      <td>1</td>\n",
       "      <td>85</td>\n",
       "      <td>66</td>\n",
       "      <td>29</td>\n",
       "      <td>0</td>\n",
       "      <td>26.6</td>\n",
       "      <td>0.351</td>\n",
       "      <td>31</td>\n",
       "      <td>0</td>\n",
       "    </tr>\n",
       "    <tr>\n",
       "      <th>2</th>\n",
       "      <td>8</td>\n",
       "      <td>183</td>\n",
       "      <td>64</td>\n",
       "      <td>0</td>\n",
       "      <td>0</td>\n",
       "      <td>23.3</td>\n",
       "      <td>0.672</td>\n",
       "      <td>32</td>\n",
       "      <td>1</td>\n",
       "    </tr>\n",
       "    <tr>\n",
       "      <th>3</th>\n",
       "      <td>1</td>\n",
       "      <td>89</td>\n",
       "      <td>66</td>\n",
       "      <td>23</td>\n",
       "      <td>94</td>\n",
       "      <td>28.1</td>\n",
       "      <td>0.167</td>\n",
       "      <td>21</td>\n",
       "      <td>0</td>\n",
       "    </tr>\n",
       "    <tr>\n",
       "      <th>4</th>\n",
       "      <td>0</td>\n",
       "      <td>137</td>\n",
       "      <td>40</td>\n",
       "      <td>35</td>\n",
       "      <td>168</td>\n",
       "      <td>43.1</td>\n",
       "      <td>2.288</td>\n",
       "      <td>33</td>\n",
       "      <td>1</td>\n",
       "    </tr>\n",
       "    <tr>\n",
       "      <th>...</th>\n",
       "      <td>...</td>\n",
       "      <td>...</td>\n",
       "      <td>...</td>\n",
       "      <td>...</td>\n",
       "      <td>...</td>\n",
       "      <td>...</td>\n",
       "      <td>...</td>\n",
       "      <td>...</td>\n",
       "      <td>...</td>\n",
       "    </tr>\n",
       "    <tr>\n",
       "      <th>763</th>\n",
       "      <td>10</td>\n",
       "      <td>101</td>\n",
       "      <td>76</td>\n",
       "      <td>48</td>\n",
       "      <td>180</td>\n",
       "      <td>32.9</td>\n",
       "      <td>0.171</td>\n",
       "      <td>63</td>\n",
       "      <td>0</td>\n",
       "    </tr>\n",
       "    <tr>\n",
       "      <th>764</th>\n",
       "      <td>2</td>\n",
       "      <td>122</td>\n",
       "      <td>70</td>\n",
       "      <td>27</td>\n",
       "      <td>0</td>\n",
       "      <td>36.8</td>\n",
       "      <td>0.340</td>\n",
       "      <td>27</td>\n",
       "      <td>0</td>\n",
       "    </tr>\n",
       "    <tr>\n",
       "      <th>765</th>\n",
       "      <td>5</td>\n",
       "      <td>121</td>\n",
       "      <td>72</td>\n",
       "      <td>23</td>\n",
       "      <td>112</td>\n",
       "      <td>26.2</td>\n",
       "      <td>0.245</td>\n",
       "      <td>30</td>\n",
       "      <td>0</td>\n",
       "    </tr>\n",
       "    <tr>\n",
       "      <th>766</th>\n",
       "      <td>1</td>\n",
       "      <td>126</td>\n",
       "      <td>60</td>\n",
       "      <td>0</td>\n",
       "      <td>0</td>\n",
       "      <td>30.1</td>\n",
       "      <td>0.349</td>\n",
       "      <td>47</td>\n",
       "      <td>1</td>\n",
       "    </tr>\n",
       "    <tr>\n",
       "      <th>767</th>\n",
       "      <td>1</td>\n",
       "      <td>93</td>\n",
       "      <td>70</td>\n",
       "      <td>31</td>\n",
       "      <td>0</td>\n",
       "      <td>30.4</td>\n",
       "      <td>0.315</td>\n",
       "      <td>23</td>\n",
       "      <td>0</td>\n",
       "    </tr>\n",
       "  </tbody>\n",
       "</table>\n",
       "<p>768 rows × 9 columns</p>\n",
       "</div>"
      ],
      "text/plain": [
       "     Pregnancies  Glucose  BloodPressure  SkinThickness  Insulin   BMI  \\\n",
       "0              6      148             72             35        0  33.6   \n",
       "1              1       85             66             29        0  26.6   \n",
       "2              8      183             64              0        0  23.3   \n",
       "3              1       89             66             23       94  28.1   \n",
       "4              0      137             40             35      168  43.1   \n",
       "..           ...      ...            ...            ...      ...   ...   \n",
       "763           10      101             76             48      180  32.9   \n",
       "764            2      122             70             27        0  36.8   \n",
       "765            5      121             72             23      112  26.2   \n",
       "766            1      126             60              0        0  30.1   \n",
       "767            1       93             70             31        0  30.4   \n",
       "\n",
       "     DiabetesPedigreeFunction  Age  Outcome  \n",
       "0                       0.627   50        1  \n",
       "1                       0.351   31        0  \n",
       "2                       0.672   32        1  \n",
       "3                       0.167   21        0  \n",
       "4                       2.288   33        1  \n",
       "..                        ...  ...      ...  \n",
       "763                     0.171   63        0  \n",
       "764                     0.340   27        0  \n",
       "765                     0.245   30        0  \n",
       "766                     0.349   47        1  \n",
       "767                     0.315   23        0  \n",
       "\n",
       "[768 rows x 9 columns]"
      ]
     },
     "execution_count": 3,
     "metadata": {},
     "output_type": "execute_result"
    }
   ],
   "source": [
    "dataset"
   ]
  },
  {
   "cell_type": "code",
   "execution_count": 4,
   "id": "c9c110ea",
   "metadata": {},
   "outputs": [],
   "source": [
    "n_rows = dataset.shape[0]\n",
    "n_test = int(0.1 * n_rows // 1)\n",
    "train_dataset = dataset[0 : n_rows - n_test]\n",
    "test_dataset = dataset[n_rows - n_test : n_rows]\n",
    "cols = train_dataset.columns"
   ]
  },
  {
   "cell_type": "code",
   "execution_count": 5,
   "id": "1ec9202e",
   "metadata": {},
   "outputs": [
    {
     "name": "stdout",
     "output_type": "stream",
     "text": [
      "<class 'pandas.core.frame.DataFrame'>\n",
      "RangeIndex: 692 entries, 0 to 691\n",
      "Data columns (total 9 columns):\n",
      " #   Column                    Non-Null Count  Dtype  \n",
      "---  ------                    --------------  -----  \n",
      " 0   Pregnancies               692 non-null    int64  \n",
      " 1   Glucose                   692 non-null    int64  \n",
      " 2   BloodPressure             692 non-null    int64  \n",
      " 3   SkinThickness             692 non-null    int64  \n",
      " 4   Insulin                   692 non-null    int64  \n",
      " 5   BMI                       692 non-null    float64\n",
      " 6   DiabetesPedigreeFunction  692 non-null    float64\n",
      " 7   Age                       692 non-null    int64  \n",
      " 8   Outcome                   692 non-null    int64  \n",
      "dtypes: float64(2), int64(7)\n",
      "memory usage: 48.8 KB\n"
     ]
    }
   ],
   "source": [
    "train_dataset.info()"
   ]
  },
  {
   "cell_type": "code",
   "execution_count": 6,
   "id": "c9948058",
   "metadata": {},
   "outputs": [
    {
     "data": {
      "text/html": [
       "<div>\n",
       "<style scoped>\n",
       "    .dataframe tbody tr th:only-of-type {\n",
       "        vertical-align: middle;\n",
       "    }\n",
       "\n",
       "    .dataframe tbody tr th {\n",
       "        vertical-align: top;\n",
       "    }\n",
       "\n",
       "    .dataframe thead th {\n",
       "        text-align: right;\n",
       "    }\n",
       "</style>\n",
       "<table border=\"1\" class=\"dataframe\">\n",
       "  <thead>\n",
       "    <tr style=\"text-align: right;\">\n",
       "      <th></th>\n",
       "      <th>Pregnancies</th>\n",
       "      <th>Glucose</th>\n",
       "      <th>BloodPressure</th>\n",
       "      <th>SkinThickness</th>\n",
       "      <th>Insulin</th>\n",
       "      <th>BMI</th>\n",
       "      <th>DiabetesPedigreeFunction</th>\n",
       "      <th>Age</th>\n",
       "      <th>Outcome</th>\n",
       "    </tr>\n",
       "  </thead>\n",
       "  <tbody>\n",
       "    <tr>\n",
       "      <th>Pregnancies</th>\n",
       "      <td>1.000000</td>\n",
       "      <td>0.136962</td>\n",
       "      <td>0.145099</td>\n",
       "      <td>-0.098287</td>\n",
       "      <td>-0.071208</td>\n",
       "      <td>0.030829</td>\n",
       "      <td>-0.043614</td>\n",
       "      <td>0.549801</td>\n",
       "      <td>0.224246</td>\n",
       "    </tr>\n",
       "    <tr>\n",
       "      <th>Glucose</th>\n",
       "      <td>0.136962</td>\n",
       "      <td>1.000000</td>\n",
       "      <td>0.144366</td>\n",
       "      <td>0.056675</td>\n",
       "      <td>0.331740</td>\n",
       "      <td>0.224909</td>\n",
       "      <td>0.139951</td>\n",
       "      <td>0.272216</td>\n",
       "      <td>0.457032</td>\n",
       "    </tr>\n",
       "    <tr>\n",
       "      <th>BloodPressure</th>\n",
       "      <td>0.145099</td>\n",
       "      <td>0.144366</td>\n",
       "      <td>1.000000</td>\n",
       "      <td>0.200327</td>\n",
       "      <td>0.095158</td>\n",
       "      <td>0.271357</td>\n",
       "      <td>0.031630</td>\n",
       "      <td>0.238547</td>\n",
       "      <td>0.055565</td>\n",
       "    </tr>\n",
       "    <tr>\n",
       "      <th>SkinThickness</th>\n",
       "      <td>-0.098287</td>\n",
       "      <td>0.056675</td>\n",
       "      <td>0.200327</td>\n",
       "      <td>1.000000</td>\n",
       "      <td>0.444555</td>\n",
       "      <td>0.385911</td>\n",
       "      <td>0.179377</td>\n",
       "      <td>-0.122478</td>\n",
       "      <td>0.080803</td>\n",
       "    </tr>\n",
       "    <tr>\n",
       "      <th>Insulin</th>\n",
       "      <td>-0.071208</td>\n",
       "      <td>0.331740</td>\n",
       "      <td>0.095158</td>\n",
       "      <td>0.444555</td>\n",
       "      <td>1.000000</td>\n",
       "      <td>0.202638</td>\n",
       "      <td>0.200522</td>\n",
       "      <td>-0.024169</td>\n",
       "      <td>0.138440</td>\n",
       "    </tr>\n",
       "    <tr>\n",
       "      <th>BMI</th>\n",
       "      <td>0.030829</td>\n",
       "      <td>0.224909</td>\n",
       "      <td>0.271357</td>\n",
       "      <td>0.385911</td>\n",
       "      <td>0.202638</td>\n",
       "      <td>1.000000</td>\n",
       "      <td>0.131929</td>\n",
       "      <td>0.036875</td>\n",
       "      <td>0.309951</td>\n",
       "    </tr>\n",
       "    <tr>\n",
       "      <th>DiabetesPedigreeFunction</th>\n",
       "      <td>-0.043614</td>\n",
       "      <td>0.139951</td>\n",
       "      <td>0.031630</td>\n",
       "      <td>0.179377</td>\n",
       "      <td>0.200522</td>\n",
       "      <td>0.131929</td>\n",
       "      <td>1.000000</td>\n",
       "      <td>0.036221</td>\n",
       "      <td>0.177182</td>\n",
       "    </tr>\n",
       "    <tr>\n",
       "      <th>Age</th>\n",
       "      <td>0.549801</td>\n",
       "      <td>0.272216</td>\n",
       "      <td>0.238547</td>\n",
       "      <td>-0.122478</td>\n",
       "      <td>-0.024169</td>\n",
       "      <td>0.036875</td>\n",
       "      <td>0.036221</td>\n",
       "      <td>1.000000</td>\n",
       "      <td>0.222361</td>\n",
       "    </tr>\n",
       "    <tr>\n",
       "      <th>Outcome</th>\n",
       "      <td>0.224246</td>\n",
       "      <td>0.457032</td>\n",
       "      <td>0.055565</td>\n",
       "      <td>0.080803</td>\n",
       "      <td>0.138440</td>\n",
       "      <td>0.309951</td>\n",
       "      <td>0.177182</td>\n",
       "      <td>0.222361</td>\n",
       "      <td>1.000000</td>\n",
       "    </tr>\n",
       "  </tbody>\n",
       "</table>\n",
       "</div>"
      ],
      "text/plain": [
       "                          Pregnancies   Glucose  BloodPressure  SkinThickness  \\\n",
       "Pregnancies                  1.000000  0.136962       0.145099      -0.098287   \n",
       "Glucose                      0.136962  1.000000       0.144366       0.056675   \n",
       "BloodPressure                0.145099  0.144366       1.000000       0.200327   \n",
       "SkinThickness               -0.098287  0.056675       0.200327       1.000000   \n",
       "Insulin                     -0.071208  0.331740       0.095158       0.444555   \n",
       "BMI                          0.030829  0.224909       0.271357       0.385911   \n",
       "DiabetesPedigreeFunction    -0.043614  0.139951       0.031630       0.179377   \n",
       "Age                          0.549801  0.272216       0.238547      -0.122478   \n",
       "Outcome                      0.224246  0.457032       0.055565       0.080803   \n",
       "\n",
       "                           Insulin       BMI  DiabetesPedigreeFunction  \\\n",
       "Pregnancies              -0.071208  0.030829                 -0.043614   \n",
       "Glucose                   0.331740  0.224909                  0.139951   \n",
       "BloodPressure             0.095158  0.271357                  0.031630   \n",
       "SkinThickness             0.444555  0.385911                  0.179377   \n",
       "Insulin                   1.000000  0.202638                  0.200522   \n",
       "BMI                       0.202638  1.000000                  0.131929   \n",
       "DiabetesPedigreeFunction  0.200522  0.131929                  1.000000   \n",
       "Age                      -0.024169  0.036875                  0.036221   \n",
       "Outcome                   0.138440  0.309951                  0.177182   \n",
       "\n",
       "                               Age   Outcome  \n",
       "Pregnancies               0.549801  0.224246  \n",
       "Glucose                   0.272216  0.457032  \n",
       "BloodPressure             0.238547  0.055565  \n",
       "SkinThickness            -0.122478  0.080803  \n",
       "Insulin                  -0.024169  0.138440  \n",
       "BMI                       0.036875  0.309951  \n",
       "DiabetesPedigreeFunction  0.036221  0.177182  \n",
       "Age                       1.000000  0.222361  \n",
       "Outcome                   0.222361  1.000000  "
      ]
     },
     "execution_count": 6,
     "metadata": {},
     "output_type": "execute_result"
    }
   ],
   "source": [
    "train_dataset.corr()"
   ]
  },
  {
   "cell_type": "code",
   "execution_count": 7,
   "id": "aed59cdc",
   "metadata": {},
   "outputs": [
    {
     "data": {
      "text/plain": [
       "<AxesSubplot: >"
      ]
     },
     "execution_count": 7,
     "metadata": {},
     "output_type": "execute_result"
    },
    {
     "data": {
      "image/png": "[encoded data removed]",
      "text/plain": [
       "<Figure size 720x720 with 2 Axes>"
      ]
     },
     "metadata": {
      "needs_background": "light"
     },
     "output_type": "display_data"
    }
   ],
   "source": [
    "fig, ax = plt.subplots(figsize=(10,10))\n",
    "sns.heatmap(dataset.corr(), cmap=\"YlGnBu\")"
   ]
  },
  {
   "cell_type": "code",
   "execution_count": 8,
   "id": "d785b89a",
   "metadata": {},
   "outputs": [
    {
     "data": {
      "text/html": [
       "<div>\n",
       "<style scoped>\n",
       "    .dataframe tbody tr th:only-of-type {\n",
       "        vertical-align: middle;\n",
       "    }\n",
       "\n",
       "    .dataframe tbody tr th {\n",
       "        vertical-align: top;\n",
       "    }\n",
       "\n",
       "    .dataframe thead th {\n",
       "        text-align: right;\n",
       "    }\n",
       "</style>\n",
       "<table border=\"1\" class=\"dataframe\">\n",
       "  <thead>\n",
       "    <tr style=\"text-align: right;\">\n",
       "      <th></th>\n",
       "      <th>Pregnancies</th>\n",
       "      <th>Glucose</th>\n",
       "      <th>BloodPressure</th>\n",
       "      <th>SkinThickness</th>\n",
       "      <th>Insulin</th>\n",
       "      <th>BMI</th>\n",
       "      <th>DiabetesPedigreeFunction</th>\n",
       "      <th>Age</th>\n",
       "      <th>Outcome</th>\n",
       "    </tr>\n",
       "  </thead>\n",
       "  <tbody>\n",
       "    <tr>\n",
       "      <th>0</th>\n",
       "      <td>6</td>\n",
       "      <td>148</td>\n",
       "      <td>72</td>\n",
       "      <td>35</td>\n",
       "      <td>0</td>\n",
       "      <td>33.6</td>\n",
       "      <td>0.627</td>\n",
       "      <td>50</td>\n",
       "      <td>1</td>\n",
       "    </tr>\n",
       "    <tr>\n",
       "      <th>1</th>\n",
       "      <td>1</td>\n",
       "      <td>85</td>\n",
       "      <td>66</td>\n",
       "      <td>29</td>\n",
       "      <td>0</td>\n",
       "      <td>26.6</td>\n",
       "      <td>0.351</td>\n",
       "      <td>31</td>\n",
       "      <td>0</td>\n",
       "    </tr>\n",
       "    <tr>\n",
       "      <th>2</th>\n",
       "      <td>8</td>\n",
       "      <td>183</td>\n",
       "      <td>64</td>\n",
       "      <td>0</td>\n",
       "      <td>0</td>\n",
       "      <td>23.3</td>\n",
       "      <td>0.672</td>\n",
       "      <td>32</td>\n",
       "      <td>1</td>\n",
       "    </tr>\n",
       "    <tr>\n",
       "      <th>3</th>\n",
       "      <td>1</td>\n",
       "      <td>89</td>\n",
       "      <td>66</td>\n",
       "      <td>23</td>\n",
       "      <td>94</td>\n",
       "      <td>28.1</td>\n",
       "      <td>0.167</td>\n",
       "      <td>21</td>\n",
       "      <td>0</td>\n",
       "    </tr>\n",
       "    <tr>\n",
       "      <th>4</th>\n",
       "      <td>0</td>\n",
       "      <td>137</td>\n",
       "      <td>40</td>\n",
       "      <td>35</td>\n",
       "      <td>168</td>\n",
       "      <td>43.1</td>\n",
       "      <td>2.288</td>\n",
       "      <td>33</td>\n",
       "      <td>1</td>\n",
       "    </tr>\n",
       "    <tr>\n",
       "      <th>...</th>\n",
       "      <td>...</td>\n",
       "      <td>...</td>\n",
       "      <td>...</td>\n",
       "      <td>...</td>\n",
       "      <td>...</td>\n",
       "      <td>...</td>\n",
       "      <td>...</td>\n",
       "      <td>...</td>\n",
       "      <td>...</td>\n",
       "    </tr>\n",
       "    <tr>\n",
       "      <th>687</th>\n",
       "      <td>1</td>\n",
       "      <td>107</td>\n",
       "      <td>50</td>\n",
       "      <td>19</td>\n",
       "      <td>0</td>\n",
       "      <td>28.3</td>\n",
       "      <td>0.181</td>\n",
       "      <td>29</td>\n",
       "      <td>0</td>\n",
       "    </tr>\n",
       "    <tr>\n",
       "      <th>688</th>\n",
       "      <td>1</td>\n",
       "      <td>140</td>\n",
       "      <td>74</td>\n",
       "      <td>26</td>\n",
       "      <td>180</td>\n",
       "      <td>24.1</td>\n",
       "      <td>0.828</td>\n",
       "      <td>23</td>\n",
       "      <td>0</td>\n",
       "    </tr>\n",
       "    <tr>\n",
       "      <th>689</th>\n",
       "      <td>1</td>\n",
       "      <td>144</td>\n",
       "      <td>82</td>\n",
       "      <td>46</td>\n",
       "      <td>180</td>\n",
       "      <td>46.1</td>\n",
       "      <td>0.335</td>\n",
       "      <td>46</td>\n",
       "      <td>1</td>\n",
       "    </tr>\n",
       "    <tr>\n",
       "      <th>690</th>\n",
       "      <td>8</td>\n",
       "      <td>107</td>\n",
       "      <td>80</td>\n",
       "      <td>0</td>\n",
       "      <td>0</td>\n",
       "      <td>24.6</td>\n",
       "      <td>0.856</td>\n",
       "      <td>34</td>\n",
       "      <td>0</td>\n",
       "    </tr>\n",
       "    <tr>\n",
       "      <th>691</th>\n",
       "      <td>13</td>\n",
       "      <td>158</td>\n",
       "      <td>114</td>\n",
       "      <td>0</td>\n",
       "      <td>0</td>\n",
       "      <td>42.3</td>\n",
       "      <td>0.257</td>\n",
       "      <td>44</td>\n",
       "      <td>1</td>\n",
       "    </tr>\n",
       "  </tbody>\n",
       "</table>\n",
       "<p>692 rows × 9 columns</p>\n",
       "</div>"
      ],
      "text/plain": [
       "     Pregnancies  Glucose  BloodPressure  SkinThickness  Insulin   BMI  \\\n",
       "0              6      148             72             35        0  33.6   \n",
       "1              1       85             66             29        0  26.6   \n",
       "2              8      183             64              0        0  23.3   \n",
       "3              1       89             66             23       94  28.1   \n",
       "4              0      137             40             35      168  43.1   \n",
       "..           ...      ...            ...            ...      ...   ...   \n",
       "687            1      107             50             19        0  28.3   \n",
       "688            1      140             74             26      180  24.1   \n",
       "689            1      144             82             46      180  46.1   \n",
       "690            8      107             80              0        0  24.6   \n",
       "691           13      158            114              0        0  42.3   \n",
       "\n",
       "     DiabetesPedigreeFunction  Age  Outcome  \n",
       "0                       0.627   50        1  \n",
       "1                       0.351   31        0  \n",
       "2                       0.672   32        1  \n",
       "3                       0.167   21        0  \n",
       "4                       2.288   33        1  \n",
       "..                        ...  ...      ...  \n",
       "687                     0.181   29        0  \n",
       "688                     0.828   23        0  \n",
       "689                     0.335   46        1  \n",
       "690                     0.856   34        0  \n",
       "691                     0.257   44        1  \n",
       "\n",
       "[692 rows x 9 columns]"
      ]
     },
     "execution_count": 8,
     "metadata": {},
     "output_type": "execute_result"
    }
   ],
   "source": [
    "train_dataset"
   ]
  },
  {
   "cell_type": "code",
   "execution_count": 9,
   "id": "46f6f606",
   "metadata": {},
   "outputs": [
    {
     "data": {
      "text/html": [
       "<div>\n",
       "<style scoped>\n",
       "    .dataframe tbody tr th:only-of-type {\n",
       "        vertical-align: middle;\n",
       "    }\n",
       "\n",
       "    .dataframe tbody tr th {\n",
       "        vertical-align: top;\n",
       "    }\n",
       "\n",
       "    .dataframe thead th {\n",
       "        text-align: right;\n",
       "    }\n",
       "</style>\n",
       "<table border=\"1\" class=\"dataframe\">\n",
       "  <thead>\n",
       "    <tr style=\"text-align: right;\">\n",
       "      <th></th>\n",
       "      <th>Pregnancies</th>\n",
       "      <th>Glucose</th>\n",
       "      <th>BloodPressure</th>\n",
       "      <th>SkinThickness</th>\n",
       "      <th>Insulin</th>\n",
       "      <th>BMI</th>\n",
       "      <th>DiabetesPedigreeFunction</th>\n",
       "      <th>Age</th>\n",
       "      <th>Outcome</th>\n",
       "    </tr>\n",
       "  </thead>\n",
       "  <tbody>\n",
       "    <tr>\n",
       "      <th>count</th>\n",
       "      <td>692.000000</td>\n",
       "      <td>692.000000</td>\n",
       "      <td>692.000000</td>\n",
       "      <td>692.000000</td>\n",
       "      <td>692.000000</td>\n",
       "      <td>692.000000</td>\n",
       "      <td>692.000000</td>\n",
       "      <td>692.00000</td>\n",
       "      <td>692.000000</td>\n",
       "    </tr>\n",
       "    <tr>\n",
       "      <th>mean</th>\n",
       "      <td>3.829480</td>\n",
       "      <td>120.497110</td>\n",
       "      <td>68.924855</td>\n",
       "      <td>20.423410</td>\n",
       "      <td>79.387283</td>\n",
       "      <td>31.876445</td>\n",
       "      <td>0.476223</td>\n",
       "      <td>33.15896</td>\n",
       "      <td>0.343931</td>\n",
       "    </tr>\n",
       "    <tr>\n",
       "      <th>std</th>\n",
       "      <td>3.374776</td>\n",
       "      <td>32.297975</td>\n",
       "      <td>19.443789</td>\n",
       "      <td>16.021013</td>\n",
       "      <td>115.072759</td>\n",
       "      <td>7.960887</td>\n",
       "      <td>0.337888</td>\n",
       "      <td>11.81775</td>\n",
       "      <td>0.475362</td>\n",
       "    </tr>\n",
       "    <tr>\n",
       "      <th>min</th>\n",
       "      <td>0.000000</td>\n",
       "      <td>0.000000</td>\n",
       "      <td>0.000000</td>\n",
       "      <td>0.000000</td>\n",
       "      <td>0.000000</td>\n",
       "      <td>0.000000</td>\n",
       "      <td>0.078000</td>\n",
       "      <td>21.00000</td>\n",
       "      <td>0.000000</td>\n",
       "    </tr>\n",
       "    <tr>\n",
       "      <th>25%</th>\n",
       "      <td>1.000000</td>\n",
       "      <td>99.000000</td>\n",
       "      <td>63.500000</td>\n",
       "      <td>0.000000</td>\n",
       "      <td>0.000000</td>\n",
       "      <td>27.000000</td>\n",
       "      <td>0.240000</td>\n",
       "      <td>24.00000</td>\n",
       "      <td>0.000000</td>\n",
       "    </tr>\n",
       "    <tr>\n",
       "      <th>50%</th>\n",
       "      <td>3.000000</td>\n",
       "      <td>116.000000</td>\n",
       "      <td>72.000000</td>\n",
       "      <td>23.000000</td>\n",
       "      <td>36.000000</td>\n",
       "      <td>32.000000</td>\n",
       "      <td>0.375500</td>\n",
       "      <td>29.00000</td>\n",
       "      <td>0.000000</td>\n",
       "    </tr>\n",
       "    <tr>\n",
       "      <th>75%</th>\n",
       "      <td>6.000000</td>\n",
       "      <td>140.250000</td>\n",
       "      <td>80.000000</td>\n",
       "      <td>32.000000</td>\n",
       "      <td>126.500000</td>\n",
       "      <td>36.500000</td>\n",
       "      <td>0.637000</td>\n",
       "      <td>40.00000</td>\n",
       "      <td>1.000000</td>\n",
       "    </tr>\n",
       "    <tr>\n",
       "      <th>max</th>\n",
       "      <td>17.000000</td>\n",
       "      <td>199.000000</td>\n",
       "      <td>122.000000</td>\n",
       "      <td>99.000000</td>\n",
       "      <td>846.000000</td>\n",
       "      <td>67.100000</td>\n",
       "      <td>2.420000</td>\n",
       "      <td>81.00000</td>\n",
       "      <td>1.000000</td>\n",
       "    </tr>\n",
       "  </tbody>\n",
       "</table>\n",
       "</div>"
      ],
      "text/plain": [
       "       Pregnancies     Glucose  BloodPressure  SkinThickness     Insulin  \\\n",
       "count   692.000000  692.000000     692.000000     692.000000  692.000000   \n",
       "mean      3.829480  120.497110      68.924855      20.423410   79.387283   \n",
       "std       3.374776   32.297975      19.443789      16.021013  115.072759   \n",
       "min       0.000000    0.000000       0.000000       0.000000    0.000000   \n",
       "25%       1.000000   99.000000      63.500000       0.000000    0.000000   \n",
       "50%       3.000000  116.000000      72.000000      23.000000   36.000000   \n",
       "75%       6.000000  140.250000      80.000000      32.000000  126.500000   \n",
       "max      17.000000  199.000000     122.000000      99.000000  846.000000   \n",
       "\n",
       "              BMI  DiabetesPedigreeFunction        Age     Outcome  \n",
       "count  692.000000                692.000000  692.00000  692.000000  \n",
       "mean    31.876445                  0.476223   33.15896    0.343931  \n",
       "std      7.960887                  0.337888   11.81775    0.475362  \n",
       "min      0.000000                  0.078000   21.00000    0.000000  \n",
       "25%     27.000000                  0.240000   24.00000    0.000000  \n",
       "50%     32.000000                  0.375500   29.00000    0.000000  \n",
       "75%     36.500000                  0.637000   40.00000    1.000000  \n",
       "max     67.100000                  2.420000   81.00000    1.000000  "
      ]
     },
     "execution_count": 9,
     "metadata": {},
     "output_type": "execute_result"
    }
   ],
   "source": [
    "train_dataset.describe()"
   ]
  },
  {
   "cell_type": "code",
   "execution_count": 10,
   "id": "04f910be",
   "metadata": {},
   "outputs": [],
   "source": [
    "X = train_dataset.iloc[:, 0 : 8]\n",
    "y = train_dataset.iloc[:, 8]"
   ]
  },
  {
   "cell_type": "code",
   "execution_count": 11,
   "id": "705ff455",
   "metadata": {},
   "outputs": [
    {
     "data": {
      "text/html": [
       "<div>\n",
       "<style scoped>\n",
       "    .dataframe tbody tr th:only-of-type {\n",
       "        vertical-align: middle;\n",
       "    }\n",
       "\n",
       "    .dataframe tbody tr th {\n",
       "        vertical-align: top;\n",
       "    }\n",
       "\n",
       "    .dataframe thead th {\n",
       "        text-align: right;\n",
       "    }\n",
       "</style>\n",
       "<table border=\"1\" class=\"dataframe\">\n",
       "  <thead>\n",
       "    <tr style=\"text-align: right;\">\n",
       "      <th></th>\n",
       "      <th>Pregnancies</th>\n",
       "      <th>Glucose</th>\n",
       "      <th>BloodPressure</th>\n",
       "      <th>SkinThickness</th>\n",
       "      <th>Insulin</th>\n",
       "      <th>BMI</th>\n",
       "      <th>DiabetesPedigreeFunction</th>\n",
       "      <th>Age</th>\n",
       "    </tr>\n",
       "  </thead>\n",
       "  <tbody>\n",
       "    <tr>\n",
       "      <th>0</th>\n",
       "      <td>6</td>\n",
       "      <td>148</td>\n",
       "      <td>72</td>\n",
       "      <td>35</td>\n",
       "      <td>0</td>\n",
       "      <td>33.6</td>\n",
       "      <td>0.627</td>\n",
       "      <td>50</td>\n",
       "    </tr>\n",
       "    <tr>\n",
       "      <th>1</th>\n",
       "      <td>1</td>\n",
       "      <td>85</td>\n",
       "      <td>66</td>\n",
       "      <td>29</td>\n",
       "      <td>0</td>\n",
       "      <td>26.6</td>\n",
       "      <td>0.351</td>\n",
       "      <td>31</td>\n",
       "    </tr>\n",
       "    <tr>\n",
       "      <th>2</th>\n",
       "      <td>8</td>\n",
       "      <td>183</td>\n",
       "      <td>64</td>\n",
       "      <td>0</td>\n",
       "      <td>0</td>\n",
       "      <td>23.3</td>\n",
       "      <td>0.672</td>\n",
       "      <td>32</td>\n",
       "    </tr>\n",
       "    <tr>\n",
       "      <th>3</th>\n",
       "      <td>1</td>\n",
       "      <td>89</td>\n",
       "      <td>66</td>\n",
       "      <td>23</td>\n",
       "      <td>94</td>\n",
       "      <td>28.1</td>\n",
       "      <td>0.167</td>\n",
       "      <td>21</td>\n",
       "    </tr>\n",
       "    <tr>\n",
       "      <th>4</th>\n",
       "      <td>0</td>\n",
       "      <td>137</td>\n",
       "      <td>40</td>\n",
       "      <td>35</td>\n",
       "      <td>168</td>\n",
       "      <td>43.1</td>\n",
       "      <td>2.288</td>\n",
       "      <td>33</td>\n",
       "    </tr>\n",
       "    <tr>\n",
       "      <th>...</th>\n",
       "      <td>...</td>\n",
       "      <td>...</td>\n",
       "      <td>...</td>\n",
       "      <td>...</td>\n",
       "      <td>...</td>\n",
       "      <td>...</td>\n",
       "      <td>...</td>\n",
       "      <td>...</td>\n",
       "    </tr>\n",
       "    <tr>\n",
       "      <th>687</th>\n",
       "      <td>1</td>\n",
       "      <td>107</td>\n",
       "      <td>50</td>\n",
       "      <td>19</td>\n",
       "      <td>0</td>\n",
       "      <td>28.3</td>\n",
       "      <td>0.181</td>\n",
       "      <td>29</td>\n",
       "    </tr>\n",
       "    <tr>\n",
       "      <th>688</th>\n",
       "      <td>1</td>\n",
       "      <td>140</td>\n",
       "      <td>74</td>\n",
       "      <td>26</td>\n",
       "      <td>180</td>\n",
       "      <td>24.1</td>\n",
       "      <td>0.828</td>\n",
       "      <td>23</td>\n",
       "    </tr>\n",
       "    <tr>\n",
       "      <th>689</th>\n",
       "      <td>1</td>\n",
       "      <td>144</td>\n",
       "      <td>82</td>\n",
       "      <td>46</td>\n",
       "      <td>180</td>\n",
       "      <td>46.1</td>\n",
       "      <td>0.335</td>\n",
       "      <td>46</td>\n",
       "    </tr>\n",
       "    <tr>\n",
       "      <th>690</th>\n",
       "      <td>8</td>\n",
       "      <td>107</td>\n",
       "      <td>80</td>\n",
       "      <td>0</td>\n",
       "      <td>0</td>\n",
       "      <td>24.6</td>\n",
       "      <td>0.856</td>\n",
       "      <td>34</td>\n",
       "    </tr>\n",
       "    <tr>\n",
       "      <th>691</th>\n",
       "      <td>13</td>\n",
       "      <td>158</td>\n",
       "      <td>114</td>\n",
       "      <td>0</td>\n",
       "      <td>0</td>\n",
       "      <td>42.3</td>\n",
       "      <td>0.257</td>\n",
       "      <td>44</td>\n",
       "    </tr>\n",
       "  </tbody>\n",
       "</table>\n",
       "<p>692 rows × 8 columns</p>\n",
       "</div>"
      ],
      "text/plain": [
       "     Pregnancies  Glucose  BloodPressure  SkinThickness  Insulin   BMI  \\\n",
       "0              6      148             72             35        0  33.6   \n",
       "1              1       85             66             29        0  26.6   \n",
       "2              8      183             64              0        0  23.3   \n",
       "3              1       89             66             23       94  28.1   \n",
       "4              0      137             40             35      168  43.1   \n",
       "..           ...      ...            ...            ...      ...   ...   \n",
       "687            1      107             50             19        0  28.3   \n",
       "688            1      140             74             26      180  24.1   \n",
       "689            1      144             82             46      180  46.1   \n",
       "690            8      107             80              0        0  24.6   \n",
       "691           13      158            114              0        0  42.3   \n",
       "\n",
       "     DiabetesPedigreeFunction  Age  \n",
       "0                       0.627   50  \n",
       "1                       0.351   31  \n",
       "2                       0.672   32  \n",
       "3                       0.167   21  \n",
       "4                       2.288   33  \n",
       "..                        ...  ...  \n",
       "687                     0.181   29  \n",
       "688                     0.828   23  \n",
       "689                     0.335   46  \n",
       "690                     0.856   34  \n",
       "691                     0.257   44  \n",
       "\n",
       "[692 rows x 8 columns]"
      ]
     },
     "execution_count": 11,
     "metadata": {},
     "output_type": "execute_result"
    }
   ],
   "source": [
    "X"
   ]
  },
  {
   "cell_type": "code",
   "execution_count": 12,
   "id": "75115142",
   "metadata": {},
   "outputs": [
    {
     "data": {
      "text/plain": [
       "0      1\n",
       "1      0\n",
       "2      1\n",
       "3      0\n",
       "4      1\n",
       "      ..\n",
       "687    0\n",
       "688    0\n",
       "689    1\n",
       "690    0\n",
       "691    1\n",
       "Name: Outcome, Length: 692, dtype: int64"
      ]
     },
     "execution_count": 12,
     "metadata": {},
     "output_type": "execute_result"
    }
   ],
   "source": [
    "y"
   ]
  },
  {
   "cell_type": "code",
   "execution_count": 13,
   "id": "c5fdf655",
   "metadata": {},
   "outputs": [],
   "source": [
    "X_train, X_valid, y_train, y_valid = train_test_split(X, y, test_size = 0.2, shuffle = False)"
   ]
  },
  {
   "cell_type": "markdown",
   "id": "05679d95",
   "metadata": {},
   "source": [
    "# Decision Tree"
   ]
  },
  {
   "cell_type": "code",
   "execution_count": 14,
   "id": "0e9387e3",
   "metadata": {},
   "outputs": [],
   "source": [
    "X_train_dt = X_train.copy()\n",
    "X_valid_dt = X_valid.copy()\n",
    "test_dataset_dt = test_dataset.copy()\n",
    "cut_off = [3.829480, 120.497110, 68.924855, 20.423410, 79.387283, 31.876445, 0.476223, 33.15896]"
   ]
  },
  {
   "cell_type": "code",
   "execution_count": 15,
   "id": "9ac31266",
   "metadata": {},
   "outputs": [],
   "source": [
    "for i in range(0, len(cols) - 1):\n",
    "    X_train_dt[cols[i]] = [(1, 0) [x > cut_off[i]] for x in X_train_dt[cols[i]]]\n",
    "    X_valid_dt[cols[i]] = [(1, 0) [x > cut_off[i]] for x in X_valid_dt[cols[i]]]\n",
    "    test_dataset_dt[cols[i]] = [(1, 0) [x > cut_off[i]] for x in test_dataset_dt[cols[i]]]"
   ]
  },
  {
   "cell_type": "code",
   "execution_count": 16,
   "id": "ec169454",
   "metadata": {},
   "outputs": [
    {
     "data": {
      "text/html": [
       "<div>\n",
       "<style scoped>\n",
       "    .dataframe tbody tr th:only-of-type {\n",
       "        vertical-align: middle;\n",
       "    }\n",
       "\n",
       "    .dataframe tbody tr th {\n",
       "        vertical-align: top;\n",
       "    }\n",
       "\n",
       "    .dataframe thead th {\n",
       "        text-align: right;\n",
       "    }\n",
       "</style>\n",
       "<table border=\"1\" class=\"dataframe\">\n",
       "  <thead>\n",
       "    <tr style=\"text-align: right;\">\n",
       "      <th></th>\n",
       "      <th>Pregnancies</th>\n",
       "      <th>Glucose</th>\n",
       "      <th>BloodPressure</th>\n",
       "      <th>SkinThickness</th>\n",
       "      <th>Insulin</th>\n",
       "      <th>BMI</th>\n",
       "      <th>DiabetesPedigreeFunction</th>\n",
       "      <th>Age</th>\n",
       "    </tr>\n",
       "  </thead>\n",
       "  <tbody>\n",
       "    <tr>\n",
       "      <th>0</th>\n",
       "      <td>0</td>\n",
       "      <td>0</td>\n",
       "      <td>0</td>\n",
       "      <td>0</td>\n",
       "      <td>1</td>\n",
       "      <td>0</td>\n",
       "      <td>0</td>\n",
       "      <td>0</td>\n",
       "    </tr>\n",
       "    <tr>\n",
       "      <th>1</th>\n",
       "      <td>1</td>\n",
       "      <td>1</td>\n",
       "      <td>1</td>\n",
       "      <td>0</td>\n",
       "      <td>1</td>\n",
       "      <td>1</td>\n",
       "      <td>1</td>\n",
       "      <td>1</td>\n",
       "    </tr>\n",
       "    <tr>\n",
       "      <th>2</th>\n",
       "      <td>0</td>\n",
       "      <td>0</td>\n",
       "      <td>1</td>\n",
       "      <td>1</td>\n",
       "      <td>1</td>\n",
       "      <td>1</td>\n",
       "      <td>0</td>\n",
       "      <td>1</td>\n",
       "    </tr>\n",
       "    <tr>\n",
       "      <th>3</th>\n",
       "      <td>1</td>\n",
       "      <td>1</td>\n",
       "      <td>1</td>\n",
       "      <td>0</td>\n",
       "      <td>0</td>\n",
       "      <td>1</td>\n",
       "      <td>1</td>\n",
       "      <td>1</td>\n",
       "    </tr>\n",
       "    <tr>\n",
       "      <th>4</th>\n",
       "      <td>1</td>\n",
       "      <td>0</td>\n",
       "      <td>1</td>\n",
       "      <td>0</td>\n",
       "      <td>0</td>\n",
       "      <td>0</td>\n",
       "      <td>0</td>\n",
       "      <td>1</td>\n",
       "    </tr>\n",
       "    <tr>\n",
       "      <th>...</th>\n",
       "      <td>...</td>\n",
       "      <td>...</td>\n",
       "      <td>...</td>\n",
       "      <td>...</td>\n",
       "      <td>...</td>\n",
       "      <td>...</td>\n",
       "      <td>...</td>\n",
       "      <td>...</td>\n",
       "    </tr>\n",
       "    <tr>\n",
       "      <th>548</th>\n",
       "      <td>1</td>\n",
       "      <td>0</td>\n",
       "      <td>0</td>\n",
       "      <td>0</td>\n",
       "      <td>1</td>\n",
       "      <td>0</td>\n",
       "      <td>1</td>\n",
       "      <td>0</td>\n",
       "    </tr>\n",
       "    <tr>\n",
       "      <th>549</th>\n",
       "      <td>0</td>\n",
       "      <td>0</td>\n",
       "      <td>0</td>\n",
       "      <td>0</td>\n",
       "      <td>1</td>\n",
       "      <td>1</td>\n",
       "      <td>0</td>\n",
       "      <td>0</td>\n",
       "    </tr>\n",
       "    <tr>\n",
       "      <th>550</th>\n",
       "      <td>1</td>\n",
       "      <td>1</td>\n",
       "      <td>0</td>\n",
       "      <td>0</td>\n",
       "      <td>1</td>\n",
       "      <td>1</td>\n",
       "      <td>1</td>\n",
       "      <td>1</td>\n",
       "    </tr>\n",
       "    <tr>\n",
       "      <th>551</th>\n",
       "      <td>1</td>\n",
       "      <td>1</td>\n",
       "      <td>1</td>\n",
       "      <td>0</td>\n",
       "      <td>0</td>\n",
       "      <td>0</td>\n",
       "      <td>0</td>\n",
       "      <td>1</td>\n",
       "    </tr>\n",
       "    <tr>\n",
       "      <th>552</th>\n",
       "      <td>0</td>\n",
       "      <td>1</td>\n",
       "      <td>0</td>\n",
       "      <td>1</td>\n",
       "      <td>1</td>\n",
       "      <td>1</td>\n",
       "      <td>1</td>\n",
       "      <td>0</td>\n",
       "    </tr>\n",
       "  </tbody>\n",
       "</table>\n",
       "<p>553 rows × 8 columns</p>\n",
       "</div>"
      ],
      "text/plain": [
       "     Pregnancies  Glucose  BloodPressure  SkinThickness  Insulin  BMI  \\\n",
       "0              0        0              0              0        1    0   \n",
       "1              1        1              1              0        1    1   \n",
       "2              0        0              1              1        1    1   \n",
       "3              1        1              1              0        0    1   \n",
       "4              1        0              1              0        0    0   \n",
       "..           ...      ...            ...            ...      ...  ...   \n",
       "548            1        0              0              0        1    0   \n",
       "549            0        0              0              0        1    1   \n",
       "550            1        1              0              0        1    1   \n",
       "551            1        1              1              0        0    0   \n",
       "552            0        1              0              1        1    1   \n",
       "\n",
       "     DiabetesPedigreeFunction  Age  \n",
       "0                           0    0  \n",
       "1                           1    1  \n",
       "2                           0    1  \n",
       "3                           1    1  \n",
       "4                           0    1  \n",
       "..                        ...  ...  \n",
       "548                         1    0  \n",
       "549                         0    0  \n",
       "550                         1    1  \n",
       "551                         0    1  \n",
       "552                         1    0  \n",
       "\n",
       "[553 rows x 8 columns]"
      ]
     },
     "execution_count": 16,
     "metadata": {},
     "output_type": "execute_result"
    }
   ],
   "source": [
    "X_train_dt"
   ]
  },
  {
   "cell_type": "code",
   "execution_count": 17,
   "id": "0ea49635",
   "metadata": {},
   "outputs": [],
   "source": [
    "total_zero = 0\n",
    "total_one = 0\n",
    "total = 0\n",
    "for i in range(0, len(X_train)):\n",
    "    if y_train[i] == 0:\n",
    "        total_zero += 1\n",
    "    else:\n",
    "        total_one += 1\n",
    "    total += 1\n",
    "entropy_level0_whole = (-1) * ((total_zero / total) * math.log2(total_zero / total) + (total_one / total) * math.log2(total_one / total))"
   ]
  },
  {
   "cell_type": "code",
   "execution_count": 18,
   "id": "3cf7f155",
   "metadata": {},
   "outputs": [],
   "source": [
    "entropy_level0 = []\n",
    "for i in range(0, len(cols) - 1):\n",
    "    one = 0\n",
    "    two = 0\n",
    "    three = 0\n",
    "    four = 0\n",
    "    for j in range(0, len(X_train_dt[cols[i]])):\n",
    "        if X_train_dt[cols[i]][j] == 0 and y_train[j] == 0:\n",
    "            one += 1\n",
    "        elif X_train_dt[cols[i]][j] == 0 and y_train[j] == 1:\n",
    "            two += 1\n",
    "        elif X_train_dt[cols[i]][j] == 1 and y_train[j] == 0:\n",
    "            three += 1\n",
    "        elif X_train_dt[cols[i]][j] == 1 and y_train[j] == 1:\n",
    "            four += 1\n",
    "\n",
    "    p1 = one + two\n",
    "    p2 = three + four\n",
    "    t1 = p1 / (p1 + p2)\n",
    "    t2 = p2 / (p1 + p2)\n",
    "    entropy_level0.append((-1) * (t1 * ((one / p1) * math.log2(one / p1) + (two / p1) * math.log2(two / p1)) + t2 * ((three / p2) * math.log2(three / p2) + (four / p2) * math.log2(four / p2))))"
   ]
  },
  {
   "cell_type": "code",
   "execution_count": 19,
   "id": "3a1d4d1a",
   "metadata": {},
   "outputs": [
    {
     "data": {
      "text/plain": [
       "[0.906440589538041,\n",
       " 0.8291726436939375,\n",
       " 0.9246649681616204,\n",
       " 0.9294569062838418,\n",
       " 0.9198005746857978,\n",
       " 0.8908514678347113,\n",
       " 0.9182233571111105,\n",
       " 0.9077076198104991]"
      ]
     },
     "execution_count": 19,
     "metadata": {},
     "output_type": "execute_result"
    }
   ],
   "source": [
    "entropy_level0"
   ]
  },
  {
   "cell_type": "code",
   "execution_count": 20,
   "id": "fee3284b",
   "metadata": {},
   "outputs": [],
   "source": [
    "info_gain_level0 = []\n",
    "for i in entropy_level0:\n",
    "    info_gain_level0.append(entropy_level0_whole - i)"
   ]
  },
  {
   "cell_type": "code",
   "execution_count": 21,
   "id": "e30fdc58",
   "metadata": {},
   "outputs": [
    {
     "data": {
      "text/plain": [
       "[0.029947414436669928,\n",
       " 0.10721536028077339,\n",
       " 0.011723035813090532,\n",
       " 0.006931097690869081,\n",
       " 0.016587429288913103,\n",
       " 0.04553653613999964,\n",
       " 0.01816464686360042,\n",
       " 0.028680384164211814]"
      ]
     },
     "execution_count": 21,
     "metadata": {},
     "output_type": "execute_result"
    }
   ],
   "source": [
    "info_gain_level0"
   ]
  },
  {
   "cell_type": "code",
   "execution_count": 22,
   "id": "c6fb0237",
   "metadata": {},
   "outputs": [],
   "source": [
    "total_zero = 0\n",
    "total_one = 0\n",
    "total = 0\n",
    "for i in range(0, len(X_train_dt)):\n",
    "    if X_train_dt['Glucose'][i] == 0:\n",
    "        if y_train[i] == 0:\n",
    "            total_zero += 1\n",
    "        else:\n",
    "            total_one += 1\n",
    "        total += 1\n",
    "entropy_level1_no_whole = (-1) * ((total_zero / total) * math.log2(total_zero / total) + (total_one / total) * math.log2(total_one / total))"
   ]
  },
  {
   "cell_type": "code",
   "execution_count": 23,
   "id": "9dd973d3",
   "metadata": {},
   "outputs": [
    {
     "data": {
      "text/plain": [
       "0.9915017866855546"
      ]
     },
     "execution_count": 23,
     "metadata": {},
     "output_type": "execute_result"
    }
   ],
   "source": [
    "entropy_level1_no_whole"
   ]
  },
  {
   "cell_type": "code",
   "execution_count": 24,
   "id": "180aba73",
   "metadata": {},
   "outputs": [],
   "source": [
    "total_zero = 0\n",
    "total_one = 0\n",
    "total = 0\n",
    "for i in range(0, len(X_train)):\n",
    "    if X_train_dt['Glucose'][i] == 1:\n",
    "        if y_train[i] == 0:\n",
    "            total_zero += 1\n",
    "        else:\n",
    "            total_one += 1\n",
    "        total += 1\n",
    "entropy_level1_yes_whole = (-1) * ((total_zero / total) * math.log2(total_zero / total) + (total_one / total) * math.log2(total_one / total))"
   ]
  },
  {
   "cell_type": "code",
   "execution_count": 25,
   "id": "1653f379",
   "metadata": {},
   "outputs": [
    {
     "data": {
      "text/plain": [
       "0.6962122601251458"
      ]
     },
     "execution_count": 25,
     "metadata": {},
     "output_type": "execute_result"
    }
   ],
   "source": [
    "entropy_level1_yes_whole"
   ]
  },
  {
   "cell_type": "code",
   "execution_count": 26,
   "id": "a6613a23",
   "metadata": {},
   "outputs": [],
   "source": [
    "entropy_level1_no = []\n",
    "for i in range(0, len(cols) - 1):\n",
    "    if cols[i] == 'Glucose':\n",
    "        continue\n",
    "    one = 0\n",
    "    two = 0\n",
    "    three = 0\n",
    "    four = 0\n",
    "    for j in range(0, len(X_train_dt[cols[i]])):\n",
    "        if X_train_dt['Glucose'][j] == 0:\n",
    "            if X_train_dt[cols[i]][j] == 0 and y_train[j] == 0:\n",
    "                one += 1\n",
    "            elif X_train_dt[cols[i]][j] == 0 and y_train[j] == 1:\n",
    "                two += 1\n",
    "            elif X_train_dt[cols[i]][j] == 1 and y_train[j] == 0:\n",
    "                three += 1\n",
    "            elif X_train_dt[cols[i]][j] == 1 and y_train[j] == 1:\n",
    "                four += 1\n",
    "    p1 = one + two\n",
    "    p2 = three + four\n",
    "    t1 = p1 / (p1 + p2)\n",
    "    t2 = p2 / (p1 + p2)\n",
    "    entropy_level1_no.append((-1) * (t1 * ((one / p1) * math.log2(one / p1) + (two / p1) * math.log2(two / p1)) + t2 * ((three / p2) * math.log2(three / p2) + (four / p2) * math.log2(four / p2))))"
   ]
  },
  {
   "cell_type": "code",
   "execution_count": 27,
   "id": "07ddd5f8",
   "metadata": {},
   "outputs": [
    {
     "data": {
      "text/plain": [
       "[0.9852670929612005,\n",
       " 0.9914594332094533,\n",
       " 0.9886531953907245,\n",
       " 0.9915011025723098,\n",
       " 0.9531964690337007,\n",
       " 0.9716018804080975,\n",
       " 0.9878735395227329]"
      ]
     },
     "execution_count": 27,
     "metadata": {},
     "output_type": "execute_result"
    }
   ],
   "source": [
    "entropy_level1_no"
   ]
  },
  {
   "cell_type": "code",
   "execution_count": 28,
   "id": "c290904e",
   "metadata": {},
   "outputs": [],
   "source": [
    "entropy_level1_yes = []\n",
    "for i in range(0, len(cols) - 1):\n",
    "    if cols[i] == 'Glucose':\n",
    "        continue\n",
    "    one = 0\n",
    "    two = 0\n",
    "    three = 0\n",
    "    four = 0\n",
    "    for j in range(0, len(X_train_dt[cols[i]])):\n",
    "        if X_train_dt['Glucose'][j] == 1:\n",
    "            if X_train_dt[cols[i]][j] == 0 and y_train[j] == 0:\n",
    "                one += 1\n",
    "            elif X_train_dt[cols[i]][j] == 0 and y_train[j] == 1:\n",
    "                two += 1\n",
    "            elif X_train_dt[cols[i]][j] == 1 and y_train[j] == 0:\n",
    "                three += 1\n",
    "            elif X_train_dt[cols[i]][j] == 1 and y_train[j] == 1:\n",
    "                four += 1\n",
    "    p1 = one + two\n",
    "    p2 = three + four\n",
    "    t1 = p1 / (p1 + p2)\n",
    "    t2 = p2 / (p1 + p2)\n",
    "    entropy_level1_yes.append((-1) * (t1 * ((one / p1) * math.log2(one / p1) + (two / p1) * math.log2(two / p1)) + t2 * ((three / p2) * math.log2(three / p2) + (four / p2) * math.log2(four / p2))))"
   ]
  },
  {
   "cell_type": "code",
   "execution_count": 29,
   "id": "03e067b4",
   "metadata": {},
   "outputs": [
    {
     "data": {
      "text/plain": [
       "[0.6567964359859386,\n",
       " 0.685924229035644,\n",
       " 0.6859859615755051,\n",
       " 0.6870498304376795,\n",
       " 0.6708389104287369,\n",
       " 0.682462751456447,\n",
       " 0.6684066685899233]"
      ]
     },
     "execution_count": 29,
     "metadata": {},
     "output_type": "execute_result"
    }
   ],
   "source": [
    "entropy_level1_yes"
   ]
  },
  {
   "cell_type": "code",
   "execution_count": 30,
   "id": "55fae297",
   "metadata": {},
   "outputs": [],
   "source": [
    "info_gain_level1_no = []\n",
    "for i in entropy_level1_no:\n",
    "    info_gain_level1_no.append(entropy_level1_no_whole - i)"
   ]
  },
  {
   "cell_type": "code",
   "execution_count": 31,
   "id": "a7284388",
   "metadata": {},
   "outputs": [
    {
     "data": {
      "text/plain": [
       "[0.006234693724354035,\n",
       " 4.23534761012645e-05,\n",
       " 0.0028485912948300607,\n",
       " 6.841132447199527e-07,\n",
       " 0.038305317651853854,\n",
       " 0.01989990627745708,\n",
       " 0.0036282471628216184]"
      ]
     },
     "execution_count": 31,
     "metadata": {},
     "output_type": "execute_result"
    }
   ],
   "source": [
    "info_gain_level1_no"
   ]
  },
  {
   "cell_type": "code",
   "execution_count": 32,
   "id": "cafcfef8",
   "metadata": {},
   "outputs": [],
   "source": [
    "info_gain_level1_yes = []\n",
    "for i in entropy_level1_yes:\n",
    "    info_gain_level1_yes.append(entropy_level1_yes_whole - i)"
   ]
  },
  {
   "cell_type": "code",
   "execution_count": 33,
   "id": "3b109177",
   "metadata": {},
   "outputs": [
    {
     "data": {
      "text/plain": [
       "[0.03941582413920719,\n",
       " 0.010288031089501826,\n",
       " 0.010226298549640744,\n",
       " 0.009162429687466278,\n",
       " 0.02537334969640892,\n",
       " 0.01374950866869884,\n",
       " 0.02780559153522255]"
      ]
     },
     "execution_count": 33,
     "metadata": {},
     "output_type": "execute_result"
    }
   ],
   "source": [
    "info_gain_level1_yes"
   ]
  },
  {
   "cell_type": "code",
   "execution_count": 34,
   "id": "9228a6c2",
   "metadata": {},
   "outputs": [],
   "source": [
    "total_zero = 0\n",
    "total_one = 0\n",
    "total = 0\n",
    "for i in range(0, len(X_train)):\n",
    "    if X_train_dt['Glucose'][i] == 0 and X_train_dt['BMI'][i] == 0:\n",
    "        if y_train[i] == 0:\n",
    "            total_zero += 1\n",
    "        else:\n",
    "            total_one += 1\n",
    "        total += 1"
   ]
  },
  {
   "cell_type": "code",
   "execution_count": 35,
   "id": "43104017",
   "metadata": {},
   "outputs": [
    {
     "name": "stdout",
     "output_type": "stream",
     "text": [
      "Probability of Yes: 0.6486486486486487 Probability of No: 0.35135135135135137\n"
     ]
    }
   ],
   "source": [
    "print('Probability of Yes:', total_one / total, 'Probability of No:', total_zero / total)"
   ]
  },
  {
   "cell_type": "code",
   "execution_count": 36,
   "id": "18c0c52e",
   "metadata": {},
   "outputs": [],
   "source": [
    "total_zero = 0\n",
    "total_one = 0\n",
    "total = 0\n",
    "for i in range(0, len(X_train)):\n",
    "    if X_train_dt['Glucose'][i] == 0 and X_train_dt['BMI'][i] == 1:\n",
    "        if y_train[i] == 0:\n",
    "            total_zero += 1\n",
    "        else:\n",
    "            total_one += 1\n",
    "        total += 1"
   ]
  },
  {
   "cell_type": "code",
   "execution_count": 37,
   "id": "89b910fc",
   "metadata": {},
   "outputs": [
    {
     "name": "stdout",
     "output_type": "stream",
     "text": [
      "Probability of Yes: 0.4158415841584158 Probability of No: 0.5841584158415841\n"
     ]
    }
   ],
   "source": [
    "print('Probability of Yes:', total_one / total, 'Probability of No:', total_zero / total)"
   ]
  },
  {
   "cell_type": "code",
   "execution_count": 38,
   "id": "8618cd19",
   "metadata": {},
   "outputs": [],
   "source": [
    "total_zero = 0\n",
    "total_one = 0\n",
    "total = 0\n",
    "for i in range(0, len(X_train)):\n",
    "    if X_train_dt['Glucose'][i] == 1 and X_train_dt['Pregnancies'][i] == 0:\n",
    "        if y_train[i] == 0:\n",
    "            total_zero += 1\n",
    "        else:\n",
    "            total_one += 1\n",
    "        total += 1"
   ]
  },
  {
   "cell_type": "code",
   "execution_count": 39,
   "id": "e83e3903",
   "metadata": {},
   "outputs": [
    {
     "name": "stdout",
     "output_type": "stream",
     "text": [
      "Probability of Yes: 0.3025210084033613 Probability of No: 0.6974789915966386\n"
     ]
    }
   ],
   "source": [
    "print('Probability of Yes:', total_one / total, 'Probability of No:', total_zero / total)"
   ]
  },
  {
   "cell_type": "code",
   "execution_count": 40,
   "id": "11f17bc7",
   "metadata": {},
   "outputs": [],
   "source": [
    "total_zero = 0\n",
    "total_one = 0\n",
    "total = 0\n",
    "for i in range(0, len(X_train)):\n",
    "    if X_train_dt['Glucose'][i] == 1 and X_train_dt['Pregnancies'][i] == 1:\n",
    "        if y_train[i] == 0:\n",
    "            total_zero += 1\n",
    "        else:\n",
    "            total_one += 1\n",
    "        total += 1"
   ]
  },
  {
   "cell_type": "code",
   "execution_count": 41,
   "id": "801224cb",
   "metadata": {},
   "outputs": [
    {
     "name": "stdout",
     "output_type": "stream",
     "text": [
      "Probability of Yes: 0.11351351351351352 Probability of No: 0.8864864864864865\n"
     ]
    }
   ],
   "source": [
    "print('Probability of Yes:', total_one / total, 'Probability of No:', total_zero / total)"
   ]
  },
  {
   "cell_type": "code",
   "execution_count": 42,
   "id": "ae7a4330",
   "metadata": {},
   "outputs": [
    {
     "data": {
      "text/plain": [
       "'\\nTree is:\\n                                Glucose\\n         Less than Mean                          More than Mean\\n               BMI                                 Pregnancies\\nLess than Mean     More than Mean      Less than Mean     More than Mean\\n      Yes               No                  No                 No\\n'"
      ]
     },
     "execution_count": 42,
     "metadata": {},
     "output_type": "execute_result"
    }
   ],
   "source": [
    "'''\n",
    "Tree is:\n",
    "                                Glucose\n",
    "         Less than Mean                          More than Mean\n",
    "               BMI                                 Pregnancies\n",
    "Less than Mean     More than Mean      Less than Mean     More than Mean\n",
    "      Yes               No                  No                 No\n",
    "'''"
   ]
  },
  {
   "cell_type": "code",
   "execution_count": 43,
   "id": "71e29829",
   "metadata": {},
   "outputs": [],
   "source": [
    "y_pred = []\n",
    "for i in range(0, len(X_valid_dt)):\n",
    "    if X_valid_dt['Glucose'][len(X_train_dt) + i] == 0 and X_valid_dt['BMI'][len(X_train_dt) + i] == 0:\n",
    "        y_pred.append(1)\n",
    "    else:\n",
    "        y_pred.append(0)"
   ]
  },
  {
   "cell_type": "code",
   "execution_count": 44,
   "id": "a5af7c52",
   "metadata": {},
   "outputs": [
    {
     "data": {
      "text/plain": [
       "553    0\n",
       "554    0\n",
       "555    0\n",
       "556    0\n",
       "557    0\n",
       "      ..\n",
       "687    0\n",
       "688    0\n",
       "689    1\n",
       "690    0\n",
       "691    1\n",
       "Name: Outcome, Length: 139, dtype: int64"
      ]
     },
     "execution_count": 44,
     "metadata": {},
     "output_type": "execute_result"
    }
   ],
   "source": [
    "y_valid"
   ]
  },
  {
   "cell_type": "code",
   "execution_count": 45,
   "id": "dffa9f35",
   "metadata": {},
   "outputs": [
    {
     "name": "stdout",
     "output_type": "stream",
     "text": [
      "Accuracy for validation: 0.7841726618705036\n"
     ]
    }
   ],
   "source": [
    "tp = 0\n",
    "fp = 0\n",
    "tn = 0\n",
    "fn = 0\n",
    "for i in range(0, len(y_pred)):\n",
    "    if y_pred[i] == 1 and y_valid[len(X_train_dt) + i] == 1:\n",
    "        tp += 1\n",
    "    elif y_pred[i] == 1 and y_valid[len(X_train_dt) + i] == 0:\n",
    "        fp += 1\n",
    "    elif y_pred[i] == 0 and y_valid[len(X_train_dt) + i] == 0:\n",
    "        tn += 1\n",
    "    else:\n",
    "        fn += 1\n",
    "\n",
    "print('Accuracy for validation:', (tp + tn) / (tp + tn + fp + fn))"
   ]
  },
  {
   "cell_type": "code",
   "execution_count": 46,
   "id": "569c34c2",
   "metadata": {},
   "outputs": [],
   "source": [
    "y_pred = []\n",
    "for i in range(0, len(test_dataset_dt)):\n",
    "    if test_dataset_dt['Glucose'][len(X) + i] == 0 and test_dataset_dt['BMI'][len(X) + i] == 0:\n",
    "        y_pred.append(1)\n",
    "    else:\n",
    "        y_pred.append(0)"
   ]
  },
  {
   "cell_type": "code",
   "execution_count": 47,
   "id": "92705dd0",
   "metadata": {},
   "outputs": [
    {
     "name": "stdout",
     "output_type": "stream",
     "text": [
      "Accuracy for test: 0.6842105263157895\n"
     ]
    }
   ],
   "source": [
    "tp = 0\n",
    "fp = 0\n",
    "tn = 0\n",
    "fn = 0\n",
    "for i in range(0, len(y_pred)):\n",
    "    if y_pred[i] == 1 and test_dataset_dt['Outcome'][len(X) + i] == 1:\n",
    "        tp += 1\n",
    "    elif y_pred[i] == 1 and test_dataset_dt['Outcome'][len(X) + i] == 0:\n",
    "        fp += 1\n",
    "    elif y_pred[i] == 0 and test_dataset_dt['Outcome'][len(X) + i] == 0:\n",
    "        tn += 1\n",
    "    else:\n",
    "        fn += 1\n",
    "\n",
    "print('Accuracy for test:', (tp + tn) / (tp + tn + fp + fn))"
   ]
  },
  {
   "cell_type": "markdown",
   "id": "292673fb",
   "metadata": {},
   "source": [
    "# Logistic Regression"
   ]
  },
  {
   "cell_type": "code",
   "execution_count": 48,
   "id": "04080ea4",
   "metadata": {},
   "outputs": [],
   "source": [
    "def dot_product(X, y, cols):\n",
    "    prod = []\n",
    "    for i in range(0, len(X)):\n",
    "        p = 0\n",
    "        for j in range(0, len(cols) - 1):\n",
    "            p += X[cols[j]][i] * y[i]\n",
    "        prod.append(p)\n",
    "    return prod"
   ]
  },
  {
   "cell_type": "code",
   "execution_count": 49,
   "id": "adb69e95",
   "metadata": {},
   "outputs": [],
   "source": [
    "def get_difference(y1, y2):\n",
    "    diff = []\n",
    "    for i in range(0, len(y1)):\n",
    "        diff.append(y1[i] - y2[i])\n",
    "    return diff"
   ]
  },
  {
   "cell_type": "code",
   "execution_count": 50,
   "id": "c4ccea12",
   "metadata": {},
   "outputs": [],
   "source": [
    "def new_weights(weights, d_weights):\n",
    "    for i in range(0, len(weights)):\n",
    "        weights[i] += weights[i] * d_weights[i]\n",
    "    return weights"
   ]
  },
  {
   "cell_type": "code",
   "execution_count": 51,
   "id": "51eb65f2",
   "metadata": {},
   "outputs": [
    {
     "name": "stdout",
     "output_type": "stream",
     "text": [
      "[0.5, 3.163702563102503e+23, 0.5, 6.231372783538486e+24, 0.5, 5.123237741929248e+23, 0.5, 3.136280526245563e+22] 147.2083539962377\n"
     ]
    }
   ],
   "source": [
    "weights = []\n",
    "bias = 1\n",
    "for i in range(0, len(cols) - 1):\n",
    "    weights.append(0.5)\n",
    "\n",
    "num_iterations = 10\n",
    "for k in range(0, num_iterations):\n",
    "    y_pred = []\n",
    "    for i in range(0, len(X_train)):\n",
    "        pred = 0\n",
    "        for j in range(0, len(cols) - 1):\n",
    "            pred += X_train[cols[j]][i] * weights[j]\n",
    "        pred += bias\n",
    "        y_pred.append(1 / (1 + np.exp(-pred)))\n",
    "    d_weights = dot_product(X_train, get_difference(y_pred, y_train), cols)\n",
    "    d_bias = (1 / len(X_train)) * sum(get_difference(y_pred, y_train))\n",
    "    weights = new_weights(weights, d_weights)\n",
    "    bias += bias * d_bias\n",
    "\n",
    "print(weights, bias)"
   ]
  },
  {
   "cell_type": "code",
   "execution_count": 52,
   "id": "b3bd2170",
   "metadata": {},
   "outputs": [],
   "source": [
    "y_pred = []\n",
    "for i in range(0, len(X_valid)):\n",
    "    pred = 0\n",
    "    for j in range(0, len(cols) - 1):\n",
    "        pred += X_valid[cols[j]][len(X_train) + i] * weights[j]\n",
    "    pred += bias\n",
    "    y_pred.append(1 / (1 + np.exp(-pred)))"
   ]
  },
  {
   "cell_type": "code",
   "execution_count": 53,
   "id": "81fb4e78",
   "metadata": {},
   "outputs": [
    {
     "name": "stdout",
     "output_type": "stream",
     "text": [
      "Accuracy for validation: 0.30935251798561153\n"
     ]
    }
   ],
   "source": [
    "tp = 0\n",
    "fp = 0\n",
    "tn = 0\n",
    "fn = 0\n",
    "for i in range(0, len(y_pred)):\n",
    "    if y_pred[i] == 1 and y_valid[len(X_train) + i] == 1:\n",
    "        tp += 1\n",
    "    elif y_pred[i] == 1 and y_valid[len(X_train) + i] == 0:\n",
    "        fp += 1\n",
    "    elif y_pred[i] == 0 and y_valid[len(X_train) + i] == 0:\n",
    "        tn += 1\n",
    "    else:\n",
    "        fn += 1\n",
    "\n",
    "print('Accuracy for validation:', (tp + tn) / (tp + tn + fp + fn))"
   ]
  },
  {
   "cell_type": "code",
   "execution_count": 54,
   "id": "fbf8d924",
   "metadata": {},
   "outputs": [],
   "source": [
    "y_pred = []\n",
    "for i in range(0, len(test_dataset)):\n",
    "    pred = 0\n",
    "    for j in range(0, len(cols) - 1):\n",
    "        pred += test_dataset[cols[j]][len(X) + i] * weights[j]\n",
    "    pred += bias\n",
    "    y_pred.append(1 / (1 + np.exp(-pred)))"
   ]
  },
  {
   "cell_type": "code",
   "execution_count": 55,
   "id": "5c48c490",
   "metadata": {},
   "outputs": [
    {
     "name": "stdout",
     "output_type": "stream",
     "text": [
      "Accuracy for test: 0.39473684210526316\n"
     ]
    }
   ],
   "source": [
    "tp = 0\n",
    "fp = 0\n",
    "tn = 0\n",
    "fn = 0\n",
    "for i in range(0, len(y_pred)):\n",
    "    if y_pred[i] == 1 and test_dataset['Outcome'][len(X) + i] == 1:\n",
    "        tp += 1\n",
    "    elif y_pred[i] == 1 and test_dataset['Outcome'][len(X) + i] == 0:\n",
    "        fp += 1\n",
    "    elif y_pred[i] == 0 and test_dataset['Outcome'][len(X) + i] == 0:\n",
    "        tn += 1\n",
    "    else:\n",
    "        fn += 1\n",
    "\n",
    "print('Accuracy for test:', (tp + tn) / (tp + tn + fp + fn))"
   ]
  },
  {
   "cell_type": "markdown",
   "id": "c5028cb2",
   "metadata": {},
   "source": [
    "# KNN"
   ]
  },
  {
   "cell_type": "code",
   "execution_count": 56,
   "id": "1e500b61",
   "metadata": {},
   "outputs": [],
   "source": [
    "def get_prediction(distances, i, k):\n",
    "    nearest = []\n",
    "    for l in range(0, k):\n",
    "        mn = 1e10\n",
    "        ans = -1\n",
    "        for j in distances[i]:\n",
    "            if distances[i][j] < mn and j not in nearest:\n",
    "                mn = distances[i][j]\n",
    "                ans = j\n",
    "        nearest.append(ans)\n",
    "    for i in range(0, len(nearest)):\n",
    "        nearest[i] = y_train[nearest[i]]\n",
    "    return nearest"
   ]
  },
  {
   "cell_type": "code",
   "execution_count": 57,
   "id": "a6c07a2d",
   "metadata": {},
   "outputs": [],
   "source": [
    "distances = {}\n",
    "for i in range(0, len(X_valid)):\n",
    "    distances[i] = {}\n",
    "    for j in range(0, len(X_train)):\n",
    "        dist = 0\n",
    "        for k in range(0, len(cols) - 1):\n",
    "            dist += abs(X_train[cols[k]][j] - X_valid[cols[k]][len(X_train) + i])\n",
    "        distances[i][j] = dist"
   ]
  },
  {
   "cell_type": "code",
   "execution_count": 58,
   "id": "c8274b1f",
   "metadata": {},
   "outputs": [],
   "source": [
    "y_pred = []\n",
    "for i in range(0, len(X_valid)):\n",
    "    y_pred.append(get_prediction(distances, i, 35))"
   ]
  },
  {
   "cell_type": "code",
   "execution_count": 59,
   "id": "f21b35b1",
   "metadata": {},
   "outputs": [
    {
     "name": "stdout",
     "output_type": "stream",
     "text": [
      "Accuracy for validation for k = 5  : 0.7122302158273381\n",
      "Accuracy for validation for k = 15  : 0.6618705035971223\n",
      "Accuracy for validation for k = 25  : 0.6546762589928058\n",
      "Accuracy for validation for k = 35  : 0.6618705035971223\n"
     ]
    }
   ],
   "source": [
    "ks = [5, 15, 25, 35]\n",
    "for k in ks:\n",
    "    pred = []\n",
    "    for i in range(0, len(X_valid)):\n",
    "        for j in range(0, k):\n",
    "            one = 0\n",
    "            zero = 0\n",
    "            if y_pred[i][j] == 0:\n",
    "                zero += 1\n",
    "            else:\n",
    "                one += 1\n",
    "        if one > zero:\n",
    "            pred.append(1)\n",
    "        else:\n",
    "            pred.append(0)\n",
    "    tp = 0\n",
    "    fp = 0\n",
    "    tn = 0\n",
    "    fn = 0\n",
    "    for i in range(0, len(pred)):\n",
    "        if pred[i] == 1 and y_valid[len(X_train) + i] == 1:\n",
    "            tp += 1\n",
    "        elif pred[i] == 1 and y_valid[len(X_train) + i] == 0:\n",
    "            fp += 1\n",
    "        elif pred[i] == 0 and y_valid[len(X_train) + i] == 0:\n",
    "            tn += 1\n",
    "        else:\n",
    "            fn += 1\n",
    "\n",
    "    print('Accuracy for validation for k =', k, ' :', (tp + tn) / (tp + tn + fp + fn))"
   ]
  },
  {
   "cell_type": "code",
   "execution_count": 60,
   "id": "e2c807b0",
   "metadata": {},
   "outputs": [],
   "source": [
    "distances = {}\n",
    "for i in range(0, len(test_dataset)):\n",
    "    distances[i] = {}\n",
    "    for j in range(0, len(X_train)):\n",
    "        dist = 0\n",
    "        for k in range(0, len(cols) - 1):\n",
    "            dist += abs(X_train[cols[k]][j] - test_dataset[cols[k]][len(X) + i])\n",
    "        distances[i][j] = dist"
   ]
  },
  {
   "cell_type": "code",
   "execution_count": 61,
   "id": "23d1f13d",
   "metadata": {},
   "outputs": [],
   "source": [
    "y_pred = []\n",
    "for i in range(0, len(test_dataset)):\n",
    "    y_pred.append(get_prediction(distances, i, 35))"
   ]
  },
  {
   "cell_type": "code",
   "execution_count": 62,
   "id": "768dc2fb",
   "metadata": {},
   "outputs": [
    {
     "name": "stdout",
     "output_type": "stream",
     "text": [
      "Accuracy for test for k = 5  : 0.6052631578947368\n",
      "Accuracy for test for k = 15  : 0.6447368421052632\n",
      "Accuracy for test for k = 25  : 0.5657894736842105\n",
      "Accuracy for test for k = 35  : 0.5657894736842105\n"
     ]
    }
   ],
   "source": [
    "ks = [5, 15, 25, 35]\n",
    "for k in ks:\n",
    "    pred = []\n",
    "    for i in range(0, len(test_dataset)):\n",
    "        for j in range(0, k):\n",
    "            one = 0\n",
    "            zero = 0\n",
    "            if y_pred[i][j] == 0:\n",
    "                zero += 1\n",
    "            else:\n",
    "                one += 1\n",
    "        if one > zero:\n",
    "            pred.append(1)\n",
    "        else:\n",
    "            pred.append(0)\n",
    "    tp = 0\n",
    "    fp = 0\n",
    "    tn = 0\n",
    "    fn = 0\n",
    "    for i in range(0, len(pred)):\n",
    "        if pred[i] == 1 and test_dataset['Outcome'][len(X) + i] == 1:\n",
    "            tp += 1\n",
    "        elif pred[i] == 1 and test_dataset['Outcome'][len(X) + i] == 0:\n",
    "            fp += 1\n",
    "        elif pred[i] == 0 and test_dataset['Outcome'][len(X) + i] == 0:\n",
    "            tn += 1\n",
    "        else:\n",
    "            fn += 1\n",
    "\n",
    "    print('Accuracy for test for k =', k, ' :', (tp + tn) / (tp + tn + fp + fn))"
   ]
  },
  {
   "cell_type": "markdown",
   "id": "a90da567",
   "metadata": {},
   "source": [
    "# Backpropogation"
   ]
  },
  {
   "cell_type": "code",
   "execution_count": 63,
   "id": "2ea0c621",
   "metadata": {},
   "outputs": [],
   "source": [
    "def transform_into_binary(val):\n",
    "    if val < 0.5:\n",
    "        return 0\n",
    "    return 1"
   ]
  },
  {
   "cell_type": "code",
   "execution_count": 64,
   "id": "8d73d2ce",
   "metadata": {},
   "outputs": [],
   "source": [
    "from sklearn.preprocessing import StandardScaler\n",
    "scaler = StandardScaler()\n",
    "scaler.fit(X_train)\n",
    "X_train_bp = scaler.transform(X_train)\n",
    "X_valid_bp = scaler.transform(X_valid)\n",
    "test_dataset_bp = test_dataset.copy()\n",
    "test_dataset_bp_x = test_dataset_bp.iloc[:, :-1]\n",
    "test_dataset_bp_x = scaler.transform(test_dataset_bp_x)"
   ]
  },
  {
   "cell_type": "code",
   "execution_count": 65,
   "id": "27b1316f",
   "metadata": {},
   "outputs": [
    {
     "data": {
      "text/plain": [
       "array([  3.82459313, 120.46112116,  68.82278481,  20.52622061,\n",
       "        79.84990958,  31.85551537,   0.48510488,  33.2477396 ])"
      ]
     },
     "execution_count": 65,
     "metadata": {},
     "output_type": "execute_result"
    }
   ],
   "source": [
    "scaler.mean_"
   ]
  },
  {
   "cell_type": "code",
   "execution_count": 66,
   "id": "3f973336",
   "metadata": {},
   "outputs": [
    {
     "data": {
      "text/plain": [
       "array([[ 0.65063747,  0.84158561,  0.16251638, ...,  0.21496007,\n",
       "         0.41839147,  1.4174084 ],\n",
       "       [-0.8448011 , -1.08368861, -0.14438706, ..., -0.64759869,\n",
       "        -0.39542121, -0.1901812 ],\n",
       "       [ 1.2488129 ,  1.91118241, -0.24668821, ..., -1.05423354,\n",
       "         0.55107833, -0.10557122],\n",
       "       ...,\n",
       "       [-0.8448011 , -0.13633145,  0.06021523, ..., -0.54902055,\n",
       "        -0.82886493, -1.03628099],\n",
       "       [-0.24662567, -1.11424852, -0.04208592, ...,  0.00548152,\n",
       "         0.31224199, -0.69784107],\n",
       "       [ 0.65063747, -0.19745127,  0.98092557, ..., -0.49973148,\n",
       "        -0.70207527,  2.77116806]])"
      ]
     },
     "execution_count": 66,
     "metadata": {},
     "output_type": "execute_result"
    }
   ],
   "source": [
    "X_train_bp"
   ]
  },
  {
   "cell_type": "code",
   "execution_count": 67,
   "id": "1809ac82",
   "metadata": {},
   "outputs": [
    {
     "data": {
      "text/plain": [
       "array([[-0.8448011 , -0.99200889, -0.34898936, ..., -0.24096385,\n",
       "        -0.18607085, -0.86706103],\n",
       "       [-0.8448011 , -1.11424852, -0.24668821, ...,  0.62159492,\n",
       "        -0.04158961, -0.44401114],\n",
       "       [ 0.94972518,  0.10814781,  0.06021523, ..., -0.78314364,\n",
       "        -0.95565458,  0.31747867],\n",
       "       ...,\n",
       "       [-0.8448011 ,  0.71934598,  0.67402213, ...,  1.75524358,\n",
       "        -0.44259876,  1.07896848],\n",
       "       [ 1.2488129 , -0.41137063,  0.57172098, ..., -0.89404405,\n",
       "         1.09362012,  0.06364874],\n",
       "       [ 2.74425147,  1.1471847 ,  2.31084051, ...,  1.2869974 ,\n",
       "        -0.6725893 ,  0.90974853]])"
      ]
     },
     "execution_count": 67,
     "metadata": {},
     "output_type": "execute_result"
    }
   ],
   "source": [
    "X_valid_bp"
   ]
  },
  {
   "cell_type": "code",
   "execution_count": 68,
   "id": "c6536275",
   "metadata": {},
   "outputs": [
    {
     "data": {
      "text/plain": [
       "array([[-0.54571339,  0.01646809,  0.06021523,  0.7326683 ,  0.12992118,\n",
       "         0.89268482,  1.18207802, -0.86706103],\n",
       "       [ 0.94972518,  0.26094735, -0.04208592,  1.81821828,  0.3871893 ,\n",
       "         0.81875121, -0.1359447 ,  0.82513855],\n",
       "       [-0.54571339, -0.93088907, -0.45129051, -1.31071991, -0.6847612 ,\n",
       "        -1.029589  , -0.86719668, -0.69784107],\n",
       "       [ 0.94972518,  0.65822616,  1.08322672,  0.22182124,  3.43152872,\n",
       "        -0.17935251, -1.05295827,  0.82513855],\n",
       "       [-0.24662567,  1.48334369,  0.26481753, -0.09745816,  0.3871893 ,\n",
       "        -0.24096385, -0.64015474, -0.1901812 ],\n",
       "       [-1.14388882, -0.6558499 , -3.52032498, -1.31071991, -0.6847612 ,\n",
       "        -0.84475498, -0.68438369, -0.95167101],\n",
       "       [ 0.05246204,  0.19982754,  0.98092557, -0.60830521,  0.64445742,\n",
       "         0.32586049,  0.33288217, -0.44401114],\n",
       "       [ 0.05246204, -0.07521164,  0.06021523, -1.31071991, -0.6847612 ,\n",
       "         1.55808729,  1.23515276, -0.6132311 ],\n",
       "       [-0.54571339,  0.047028  ,  0.36711868,  0.41338889,  1.0303596 ,\n",
       "         0.49837224, -0.00620645, -0.6132311 ],\n",
       "       [ 0.65063747,  0.13870772,  0.46941983,  0.66881241, -0.6847612 ,\n",
       "        -0.52437601,  0.23557848,  1.33279842],\n",
       "       [-0.8448011 ,  1.45278378,  0.98092557,  0.54110065, -0.6847612 ,\n",
       "         0.38747183,  1.23810135,  1.58662836],\n",
       "       [-0.54571339,  0.26094735, -3.52032498, -1.31071991, -0.6847612 ,\n",
       "         0.81875121, -0.53400526,  0.65591859],\n",
       "       [ 0.05246204, -0.3196909 ,  0.36711868, -0.03360228,  0.1727992 ,\n",
       "        -0.42579787, -1.08244424, -0.52862112],\n",
       "       [ 0.65063747, -1.23648816,  0.57172098,  0.98809182, -0.6847612 ,\n",
       "         0.97894069, -0.90847704, -0.44401114],\n",
       "       [ 1.84698832, -0.16689136, -3.52032498, -1.31071991, -0.6847612 ,\n",
       "        -3.925322  , -0.66079491, -0.27479118],\n",
       "       [-0.54571339,  0.19982754, -1.16739855,  0.0302536 ,  2.18806614,\n",
       "         0.31353822, -0.91142563, -0.95167101],\n",
       "       [ 1.54790061,  1.33054415,  0.46941983, -1.31071991, -0.6847612 ,\n",
       "         0.11638193, -0.99398634,  0.9943585 ],\n",
       "       [-0.54571339, -0.83920935, -0.24668821,  0.7326683 ,  0.68733544,\n",
       "         0.75713987,  0.55697552, -0.86706103],\n",
       "       [-0.24662567,  1.1471847 , -0.24668821, -0.48059345,  2.63399754,\n",
       "        -0.08077436, -0.56054263, -0.78245105],\n",
       "       [ 0.35154975,  0.16926763,  0.46941983,  0.41338889, -0.49609792,\n",
       "        -0.27793065, -0.1359447 ,  0.57130861],\n",
       "       [ 1.84698832,  0.26094735, -0.34898936,  0.98809182, -0.6847612 ,\n",
       "         1.15145245, -0.13004751,  0.40208865],\n",
       "       [-1.14388882,  0.4137469 , -0.55359166, -0.03360228,  1.81073956,\n",
       "        -0.67224323, -0.39247262, -1.03628099],\n",
       "       [-0.24662567, -0.56417017,  0.26481753, -1.31071991, -0.6847612 ,\n",
       "        -0.29025292, -1.07359845, -0.10557122],\n",
       "       [ 0.94972518,  2.03342204, -0.96279626,  0.79652418,  2.67687557,\n",
       "         0.25192688,  1.00516222,  0.06364874],\n",
       "       [-0.24662567,  1.60558332,  0.46941983,  1.17965947,  0.90172554,\n",
       "         0.23960461,  1.42976014, -0.1901812 ],\n",
       "       [ 1.84698832, -0.80864944,  0.16251638, -0.16131404, -0.6847612 ,\n",
       "        -1.07887808,  0.32403638,  1.92506827],\n",
       "       [-0.8448011 , -0.38081072, -0.45129051,  1.62665064,  0.84169631,\n",
       "         0.44908317, -0.20671102, -0.78245105],\n",
       "       [ 0.35154975, -0.71696971,  0.36711868,  0.41338889, -0.6847612 ,\n",
       "         0.46140543, -0.3158091 ,  1.58662836],\n",
       "       [ 0.05246204, -1.14480843,  0.87862442, -0.09745816, -0.6847612 ,\n",
       "        -0.31489745, -0.4956735 ,  0.06364874],\n",
       "       [-0.8448011 , -0.19745127, -0.14438706,  0.98809182,  1.0303596 ,\n",
       "         0.76946214, -0.57823421, -1.03628099],\n",
       "       [-0.8448011 ,  0.87214552, -0.04208592,  0.54110065,  0.4043405 ,\n",
       "        -0.31489745, -0.40131841,  0.74052857],\n",
       "       [ 0.35154975, -0.10577155,  0.87862442,  0.60495653,  0.21567722,\n",
       "         0.89268482, -0.69028088,  0.74052857],\n",
       "       [-0.8448011 , -0.289131  ,  1.28782902, -1.31071991, -0.6847612 ,\n",
       "         0.11638193, -0.64900053,  0.9943585 ],\n",
       "       [ 0.05246204, -0.25857109,  0.46941983,  1.24351535, -0.6847612 ,\n",
       "         0.92965162, -0.73450983,  0.40208865],\n",
       "       [-0.8448011 , -0.13633145,  0.46941983,  0.54110065,  0.85884752,\n",
       "         0.52301677,  0.03212531, -0.69784107],\n",
       "       [-1.14388882,  0.62766626,  0.77632328,  0.34953301, -0.6847612 ,\n",
       "         0.06709286, -0.15363628, -0.95167101],\n",
       "       [-0.54571339,  1.66670314,  0.98092557, -1.31071991, -0.6847612 ,\n",
       "        -1.10352261, -0.46913613, -0.95167101],\n",
       "       [-0.54571339, -0.86976925, -0.86049511, -1.31071991, -0.6847612 ,\n",
       "        -0.21631931, -1.01462652, -0.95167101],\n",
       "       [-0.24662567,  0.29150726,  0.46941983,  0.15796536, -0.00728849,\n",
       "        -0.42579787, -0.47798192,  0.06364874],\n",
       "       [ 1.2488129 , -0.01409182,  0.87862442, -1.31071991, -0.6847612 ,\n",
       "        -0.42579787, -0.66669211, -0.95167101],\n",
       "       [-0.54571339,  1.63614323,  0.98092557,  1.0519477 ,  0.34431128,\n",
       "         1.55808729,  0.47441481, -0.78245105],\n",
       "       [-0.54571339, -0.44193054, -0.65589281,  0.41338889,  0.73021346,\n",
       "        -0.35186426, -0.17427646, -0.95167101],\n",
       "       [-0.54571339, -0.47249045,  0.31596811, -1.31071991, -0.6847612 ,\n",
       "        -1.05423354,  0.2208355 ,  1.67123834],\n",
       "       [ 0.05246204, -0.77808953, -0.45129051,  0.7326683 , -0.6847612 ,\n",
       "         0.4367609 , -0.59297719, -0.44401114],\n",
       "       [-1.14388882,  0.16926763,  0.87862442,  0.41338889,  0.34431128,\n",
       "        -0.54902055,  0.08814864, -1.03628099],\n",
       "       [ 1.2488129 , -1.69488678,  0.16251638,  0.15796536, -0.6847612 ,\n",
       "         0.01780378,  0.33877936,  0.74052857],\n",
       "       [-0.54571339, -0.6558499 , -0.45129051, -0.22516993,  0.68733544,\n",
       "         0.58462812, -0.09466435, -1.03628099],\n",
       "       [-0.8448011 , -0.56417017,  0.26481753, -1.31071991, -0.6847612 ,\n",
       "         0.94197389, -0.56643982,  0.74052857],\n",
       "       [ 2.14607604, -0.01409182,  0.57172098,  1.0519477 ,  0.6015794 ,\n",
       "         1.2869974 ,  0.88426975,  1.24818844],\n",
       "       [-0.24662567, -0.56417017, -1.2696997 , -0.03360228,  0.12134557,\n",
       "        -0.13006343, -0.25093997, -0.6132311 ],\n",
       "       [-0.8448011 , -0.35025081, -0.55359166, -0.16131404,  0.31000886,\n",
       "        -0.4134756 , -0.78463598, -0.95167101],\n",
       "       [ 1.54790061,  0.59710635,  1.28782902, -1.31071991, -0.6847612 ,\n",
       "         0.10405966,  0.73389132,  0.9943585 ],\n",
       "       [ 2.74425147,  0.99438516,  0.98092557,  1.0519477 ,  0.51582336,\n",
       "         1.07751884,  2.03127386,  0.48669863],\n",
       "       [ 2.44516375, -0.62528999,  0.77632328,  0.79652418,  0.21567722,\n",
       "        -0.22864158,  0.00853653,  1.07896848],\n",
       "       [-0.8448011 ,  0.81102571,  1.28782902,  1.30737123, -0.6847612 ,\n",
       "         2.14955616, -0.37478104, -0.52862112],\n",
       "       [-0.8448011 , -1.20592825,  0.26481753,  1.30737123, -0.19595178,\n",
       "         1.77988812,  1.80128332, -0.10557122],\n",
       "       [-0.24662567,  2.03342204,  0.06021523,  0.09410948,  1.0303596 ,\n",
       "         0.55998358, -0.2273512 ,  0.23286869],\n",
       "       [ 0.65063747,  1.26942433, -0.34898936, -1.31071991, -0.6847612 ,\n",
       "        -0.93101086, -0.90552844,  1.4174084 ],\n",
       "       [ 0.05246204,  0.47486671,  0.06021523, -1.31071991, -0.6847612 ,\n",
       "        -0.08077436,  2.05486264, -0.95167101],\n",
       "       [-0.8448011 ,  0.01646809,  0.46941983,  1.17965947, -0.05016651,\n",
       "         0.88036255, -0.66079491, -0.44401114],\n",
       "       [-0.24662567, -0.38081072, -0.34898936,  0.22182124, -0.6847612 ,\n",
       "        -0.7215323 , -0.77284159, -0.69784107],\n",
       "       [-1.14388882,  1.85006259,  0.98092557,  1.49893887,  3.68879684,\n",
       "         1.41022008, -0.77579019, -0.6132311 ],\n",
       "       [ 1.2488129 ,  1.02494506,  0.46941983,  0.7326683 , -0.6847612 ,\n",
       "         0.06709286, -0.12415032,  0.9943585 ],\n",
       "       [-0.8448011 ,  0.23038745,  0.98092557,  1.17965947,  0.25855524,\n",
       "         0.57230585,  1.68628805,  0.31747867],\n",
       "       [ 0.94972518,  0.50542662,  1.08322672,  1.30737123, -0.6847612 ,\n",
       "         0.01780378, -0.27747735,  0.48669863],\n",
       "       [-1.14388882,  0.0775879 ,  0.16251638, -1.31071991, -0.6847612 ,\n",
       "         0.54766131, -0.6696407 ,  1.58662836],\n",
       "       [-0.8448011 , -0.44193054,  0.36711868, -1.31071991, -0.6847612 ,\n",
       "         0.69552853, -0.8495051 , -0.6132311 ],\n",
       "       [ 0.65063747,  2.12510177,  1.18552787, -1.31071991, -0.6847612 ,\n",
       "         0.44908317, -0.61066877,  2.77116806],\n",
       "       [-0.54571339, -0.99200889, -0.55359166,  0.34953301, -0.54755154,\n",
       "        -0.42579787,  0.82824641, -0.95167101],\n",
       "       [ 1.54790061,  1.5139036 ,  0.26481753,  0.66881241, -0.6847612 ,\n",
       "         1.49647595, -0.24209418,  0.82513855],\n",
       "       [ 1.54790061, -0.96144898, -0.34898936, -1.31071991, -0.6847612 ,\n",
       "        -1.15281168, -1.01167792, -0.02096124],\n",
       "       [ 1.84698832, -0.59473008,  0.36711868,  1.7543624 ,  0.85884752,\n",
       "         0.1287042 , -0.92616862,  2.51733813],\n",
       "       [-0.54571339,  0.047028  ,  0.06021523,  0.41338889, -0.6847612 ,\n",
       "         0.60927265, -0.42785578, -0.52862112],\n",
       "       [ 0.35154975,  0.01646809,  0.16251638,  0.15796536,  0.27570644,\n",
       "        -0.69688777, -0.70797246, -0.27479118],\n",
       "       [-0.8448011 ,  0.16926763, -0.45129051, -1.31071991, -0.6847612 ,\n",
       "        -0.21631931, -0.40131841,  1.16357846],\n",
       "       [-0.8448011 , -0.83920935,  0.06021523,  0.66881241, -0.6847612 ,\n",
       "        -0.17935251, -0.50157069, -0.86706103]])"
      ]
     },
     "execution_count": 68,
     "metadata": {},
     "output_type": "execute_result"
    }
   ],
   "source": [
    "test_dataset_bp_x"
   ]
  },
  {
   "cell_type": "code",
   "execution_count": 69,
   "id": "d9495828",
   "metadata": {},
   "outputs": [
    {
     "name": "stdout",
     "output_type": "stream",
     "text": [
      "After iteration  1\n",
      "[6.800491941877793, 12.499513997685039, 1.5911144789775964, 2.711776002658672, 3.613606629737245, 8.625733061585438, 3.902063433240754, 5.54546934287467, 6.800491941877793, 12.499513997685039, 1.5911144789775964, 2.711776002658672, 3.613606629737245, 8.625733061585438, 3.902063433240754, 5.54546934287467, 2.8624704660223377, 2.8624704660223377]\n",
      "153.59143361349388\n",
      "After iteration  2\n",
      "[9.345964983068727, 21.41345337436945, 2.58286126403439, 3.692951000072309, 5.294480271943162, 13.364842961993558, 7.567890392545664, 9.587510682645629, 9.345964983068727, 21.41345337436945, 2.58286126403439, 3.692951000072309, 5.294480271943162, 13.364842961993558, 7.567890392545664, 9.587510682645629, 3.224182648043251, 3.224182648043251]\n",
      "166.47458972591747\n",
      "After iteration  3\n",
      "[12.913910823271031, 25.12478714604102, 2.078020874329385, 3.3804590473913203, 4.812792947220979, 15.877092476172171, 10.158382308256774, 11.126858221741445, 12.913910823271031, 25.12478714604102, 2.078020874329385, 3.3804590473913203, 4.812792947220979, 15.877092476172171, 10.158382308256774, 11.126858221741445, 3.439008032461145, 3.439008032461145]\n",
      "171.69470654129879\n",
      "After iteration  4\n",
      "[14.833694977834428, 27.192610261274975, 2.3225825748097995, 3.5785505064116143, 6.3772335378754095, 18.61185522396429, 11.878389966918043, 11.708202938011548, 14.833694977834428, 27.192610261274975, 2.3225825748097995, 3.5785505064116143, 6.3772335378754095, 18.61185522396429, 11.878389966918043, 11.708202938011548, 3.590369501766418, 3.590369501766418]\n",
      "175.17792389594902\n",
      "After iteration  5\n",
      "[15.862649983756885, 29.321054054774745, 2.243557138884489, 4.454769777934601, 8.207465732861097, 21.46786013097635, 13.690684525055184, 11.592489113393233, 15.862649983756885, 29.321054054774745, 2.243557138884489, 4.454769777934601, 8.207465732861097, 21.46786013097635, 13.690684525055184, 11.592489113393233, 3.7080176856267704, 3.7080176856267704]\n",
      "175.51457399776487\n",
      "After iteration  6\n",
      "[17.087796146475174, 30.840152484387332, 1.9527182525384048, 4.736434323801519, 9.769020490283275, 24.116458057727506, 15.25444754349164, 11.229614352543031, 17.087796146475174, 30.840152484387332, 1.9527182525384048, 4.736434323801519, 9.769020490283275, 24.116458057727506, 15.25444754349164, 11.229614352543031, 3.804797188875833, 3.804797188875833]\n",
      "175.94507375576862\n",
      "After iteration  7\n",
      "[18.36800172867353, 32.693402087849094, 1.779882222509753, 4.405216261359847, 11.045284622416066, 26.58242481477058, 16.52060865265552, 11.127875240796218, 18.36800172867353, 32.693402087849094, 1.779882222509753, 4.405216261359847, 11.045284622416066, 26.58242481477058, 16.52060865265552, 11.127875240796218, 3.8849278720036287, 3.8849278720036287]\n",
      "176.33968126661054\n",
      "After iteration  8\n",
      "[19.67367732270336, 34.58371132110415, 1.6034297832202613, 4.067265047956961, 12.347087259080606, 29.09789077144364, 17.811871330091606, 11.023970839666044, 19.67367732270336, 34.58371132110415, 1.6034297832202613, 4.067265047956961, 12.347087259080606, 29.09789077144364, 17.811871330091606, 11.023970839666044, 3.953976994110789, 3.953976994110789]\n",
      "176.3618125920173\n",
      "After iteration  9\n",
      "[20.30408268286256, 36.01685626414476, 1.0280173761835165, 3.5084706611964926, 13.380683722846472, 31.520551006008205, 18.189850278131836, 10.584586844868442, 20.30408268286256, 36.01685626414476, 1.0280173761835165, 3.5084706611964926, 13.380683722846472, 31.520551006008205, 18.189850278131836, 10.584586844868442, 4.012019572831606, 4.012019572831606]\n",
      "176.26748368437987\n",
      "After iteration  10\n",
      "[20.969689915644505, 37.641380450485705, 0.5310511220212258, 2.56346929845628, 14.213897165268847, 34.02721987200015, 18.266438659498363, 10.836252707620236, 20.969689915644505, 37.641380450485705, 0.5310511220212258, 2.56346929845628, 14.213897165268847, 34.02721987200015, 18.266438659498363, 10.836252707620236, 4.079245582725096, 4.079245582725096]\n",
      "176.48534296314767\n"
     ]
    }
   ],
   "source": [
    "weights = []\n",
    "d_weights = []\n",
    "alpha = 0.5\n",
    "h1 = 0\n",
    "h2 = 0\n",
    "for i in range(0, 2 * len(cols)):\n",
    "    weights.append(0.5)\n",
    "    d_weights.append(0)\n",
    "num_iterations = 10\n",
    "for k in range(0, num_iterations):\n",
    "    train_preds = []\n",
    "    for j in range(0, len(X_train_bp)):\n",
    "        for i in range(0, len(cols) - 1):\n",
    "            h1 += weights[i] * X_train_bp[j][i]\n",
    "            h2 += weights[i + len(cols) - 1] * X_train_bp[j][i]\n",
    "        h1_t = 1 / (1 + np.exp(-h1))\n",
    "        h2_t = 1 / (1 + np.exp(-h2))\n",
    "        pred = h1_t * weights[16] + h2_t * weights[17]\n",
    "        pred_t = 1 / (1 + np.exp(-pred))\n",
    "        train_preds.append(pred_t)\n",
    "        error = pred_t - y_train[j]\n",
    "        d_weights[16] = error * np.exp(-pred) / (1 + np.exp(-pred)) * (-1) * h1_t\n",
    "        d_weights[17] = error * np.exp(-pred) / (1 + np.exp(-pred)) * (-1) * h2_t\n",
    "        for i in range(0, len(cols) - 1):\n",
    "            d_weights[i] = error * np.exp(-pred) / (1 + np.exp(-pred)) * (-1) * weights[16] * np.exp(-h1) / (1 + np.exp(-h1)) * (-1) * X_train_bp[j][i]\n",
    "            d_weights[i + len(cols) - 1] = error * np.exp(-pred) / (1 + np.exp(-pred)) * (-1) * weights[17] * np.exp(-h2) / (1 + np.exp(-h2)) * (-1) * X_train_bp[j][i]\n",
    "        for i in range(0, 2 * len(cols)):\n",
    "            weights[i] -= alpha * d_weights[i]\n",
    "    print('After iteration ', k + 1)\n",
    "    print(weights)\n",
    "    mse = 0\n",
    "    for i in range(0, len(X_train)):\n",
    "        mse += (y_train[i] - train_preds[i]) * (y_train[i] - train_preds[i])\n",
    "    mse *= 0.5\n",
    "    print(mse)"
   ]
  },
  {
   "cell_type": "code",
   "execution_count": 70,
   "id": "2a6ede0e",
   "metadata": {},
   "outputs": [],
   "source": [
    "y_pred = []\n",
    "for i in range(0, len(X_valid_bp)):\n",
    "    h1 = 0\n",
    "    h2 = 0\n",
    "    for j in range(0, len(cols) - 1):\n",
    "        h1 += weights[j] * X_valid_bp[i][j]\n",
    "        h2 += weights[j + len(cols) - 1] * X_valid_bp[i][j]\n",
    "    h1_t = 1 / (1 + np.exp(-h1))\n",
    "    h2_t = 1 / (1 + np.exp(-h2))\n",
    "    pred = h1_t * weights[16] + h2_t * weights[17]\n",
    "    pred_t = 1 / (1 + np.exp(-pred))\n",
    "    y_pred.append(transform_into_binary(pred_t))"
   ]
  },
  {
   "cell_type": "code",
   "execution_count": 71,
   "id": "a360f539",
   "metadata": {},
   "outputs": [
    {
     "name": "stdout",
     "output_type": "stream",
     "text": [
      "Accuracy for validation: 0.30935251798561153\n"
     ]
    }
   ],
   "source": [
    "tp = 0\n",
    "fp = 0\n",
    "tn = 0\n",
    "fn = 0\n",
    "for i in range(0, len(y_pred)):\n",
    "    if y_pred[i] == 1 and y_valid[len(X_train_bp) + i] == 1:\n",
    "        tp += 1\n",
    "    elif y_pred[i] == 1 and y_valid[len(X_train_bp) + i] == 0:\n",
    "        fp += 1\n",
    "    elif y_pred[i] == 0 and y_valid[len(X_train_bp) + i] == 0:\n",
    "        tn += 1\n",
    "    else:\n",
    "        fn += 1\n",
    "\n",
    "print('Accuracy for validation:', (tp + tn) / (tp + tn + fp + fn))"
   ]
  },
  {
   "cell_type": "code",
   "execution_count": 72,
   "id": "5148fc33",
   "metadata": {},
   "outputs": [],
   "source": [
    "y_pred = []\n",
    "for i in range(0, len(test_dataset_bp_x)):\n",
    "    h1 = 0\n",
    "    h2 = 0\n",
    "    for j in range(0, len(cols) - 1):\n",
    "        h1 += weights[j] * test_dataset_bp_x[i][j]\n",
    "        h2 += weights[j + len(cols) - 1] * test_dataset_bp_x[i][j]\n",
    "    h1_t = 1 / (1 + np.exp(-h1))\n",
    "    h2_t = 1 / (1 + np.exp(-h2))\n",
    "    pred = h1_t * weights[16] + h2_t * weights[17]\n",
    "    pred_t = 1 / (1 + np.exp(-pred))\n",
    "    y_pred.append(transform_into_binary(pred_t))"
   ]
  },
  {
   "cell_type": "code",
   "execution_count": 73,
   "id": "a269164c",
   "metadata": {},
   "outputs": [
    {
     "name": "stdout",
     "output_type": "stream",
     "text": [
      "Accuracy for test: 0.39473684210526316\n"
     ]
    }
   ],
   "source": [
    "tp = 0\n",
    "fp = 0\n",
    "tn = 0\n",
    "fn = 0\n",
    "for i in range(0, len(y_pred)):\n",
    "    if y_pred[i] == 1 and test_dataset['Outcome'][len(X) + i] == 1:\n",
    "        tp += 1\n",
    "    elif y_pred[i] == 1 and test_dataset['Outcome'][len(X) + i] == 0:\n",
    "        fp += 1\n",
    "    elif y_pred[i] == 0 and test_dataset['Outcome'][len(X) + i] == 0:\n",
    "        tn += 1\n",
    "    else:\n",
    "        fn += 1\n",
    "\n",
    "print('Accuracy for test:', (tp + tn) / (tp + tn + fp + fn))"
   ]
  }
 ],
 "metadata": {
  "kernelspec": {
   "display_name": "Python 3",
   "language": "python",
   "name": "python3"
  },
  "language_info": {
   "codemirror_mode": {
    "name": "ipython",
    "version": 3
   },
   "file_extension": ".py",
   "mimetype": "text/x-python",
   "name": "python",
   "nbconvert_exporter": "python",
   "pygments_lexer": "ipython3",
   "version": "3.8.10"
  }
 },
 "nbformat": 4,
 "nbformat_minor": 5
}
